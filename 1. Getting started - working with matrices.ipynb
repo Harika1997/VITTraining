{
 "cells": [
  {
   "cell_type": "markdown",
   "metadata": {},
   "source": [
    "# Playing with matrices"
   ]
  },
  {
   "cell_type": "markdown",
   "metadata": {},
   "source": [
    "Julia is a dynamic language.  You don't need type declarations, and can change variable types dynamically and interactively.\n",
    "\n",
    "For working with simple numbers, arrays, and strings, its syntax is *superficially* similar to Matlab, Python, and other popular languages.\n",
    "\n",
    "In order to execute the \"In\" cells, select the cell and press Shift-Enter, or press the Play button above. To run the entire notebook, navigate to Cell and then click Run All."
   ]
  },
  {
   "cell_type": "markdown",
   "metadata": {},
   "source": [
    "# We tell beginners, you don't need types!"
   ]
  },
  {
   "cell_type": "code",
   "execution_count": 1,
   "metadata": {
    "collapsed": false
   },
   "outputs": [
    {
     "data": {
      "text/plain": [
       "Float64"
      ]
     },
     "execution_count": 1,
     "metadata": {},
     "output_type": "execute_result"
    }
   ],
   "source": [
    "typeof(1.0)"
   ]
  },
  {
   "cell_type": "code",
   "execution_count": 2,
   "metadata": {
    "collapsed": false
   },
   "outputs": [
    {
     "data": {
      "text/plain": [
       "Int64"
      ]
     },
     "execution_count": 2,
     "metadata": {},
     "output_type": "execute_result"
    }
   ],
   "source": [
    "typeof(1)"
   ]
  },
  {
   "cell_type": "code",
   "execution_count": 3,
   "metadata": {
    "collapsed": false
   },
   "outputs": [
    {
     "data": {
      "text/plain": [
       "String"
      ]
     },
     "execution_count": 3,
     "metadata": {},
     "output_type": "execute_result"
    }
   ],
   "source": [
    "S = \"Hello Julia Clsas\"\n",
    "typeof(\"S\")"
   ]
  },
  {
   "cell_type": "code",
   "execution_count": 4,
   "metadata": {
    "collapsed": false
   },
   "outputs": [
    {
     "data": {
      "text/plain": [
       "\"Hello Julia Clsas\""
      ]
     },
     "execution_count": 4,
     "metadata": {},
     "output_type": "execute_result"
    }
   ],
   "source": [
    "#  Exercise fix my spelling in the cell above\n",
    "S"
   ]
  },
  {
   "cell_type": "markdown",
   "metadata": {},
   "source": [
    "# Now forget all that: Julia is not so different from your favorite dynamic language"
   ]
  },
  {
   "cell_type": "code",
   "execution_count": 5,
   "metadata": {
    "collapsed": false
   },
   "outputs": [
    {
     "data": {
      "text/plain": [
       "2"
      ]
     },
     "execution_count": 5,
     "metadata": {},
     "output_type": "execute_result"
    }
   ],
   "source": [
    "1+1"
   ]
  },
  {
   "cell_type": "code",
   "execution_count": 6,
   "metadata": {
    "collapsed": false
   },
   "outputs": [
    {
     "data": {
      "text/plain": [
       "5×5 Array{Float64,2}:\n",
       " 0.730579  0.795523  0.749652    0.624897   0.643818\n",
       " 0.159175  0.158864  0.00144572  0.243785   0.642113\n",
       " 0.060261  0.574939  0.42493     0.814467   0.147632\n",
       " 0.653833  0.489979  0.386999    0.0297001  0.708974\n",
       " 0.279217  0.400505  0.407918    0.457234   0.299886"
      ]
     },
     "execution_count": 6,
     "metadata": {},
     "output_type": "execute_result"
    }
   ],
   "source": [
    " A = rand(5,5)"
   ]
  },
  {
   "cell_type": "code",
   "execution_count": 7,
   "metadata": {
    "collapsed": false
   },
   "outputs": [
    {
     "data": {
      "text/plain": [
       "5×5 Array{Float64,2}:\n",
       " 0.73  0.8   0.75  0.62  0.64\n",
       " 0.16  0.16  0.0   0.24  0.64\n",
       " 0.06  0.57  0.42  0.81  0.15\n",
       " 0.65  0.49  0.39  0.03  0.71\n",
       " 0.28  0.4   0.41  0.46  0.3 "
      ]
     },
     "execution_count": 7,
     "metadata": {},
     "output_type": "execute_result"
    }
   ],
   "source": [
    "round(A,2)"
   ]
  },
  {
   "cell_type": "code",
   "execution_count": 8,
   "metadata": {
    "collapsed": false
   },
   "outputs": [
    {
     "data": {
      "text/plain": [
       "5×5 Array{Float64,2}:\n",
       " 7.3  8.0  7.5  6.2  6.4\n",
       " 1.6  1.6  0.0  2.4  6.4\n",
       " 0.6  5.7  4.2  8.1  1.5\n",
       " 6.5  4.9  3.9  0.3  7.1\n",
       " 2.8  4.0  4.1  4.6  3.0"
      ]
     },
     "execution_count": 8,
     "metadata": {},
     "output_type": "execute_result"
    }
   ],
   "source": [
    "round(A,2)*10"
   ]
  },
  {
   "cell_type": "code",
   "execution_count": 9,
   "metadata": {
    "collapsed": false
   },
   "outputs": [
    {
     "data": {
      "text/plain": [
       "5×5 Array{Float64,2}:\n",
       "  1.0          -7.16405e-16  -4.45722e-16  1.18911e-15  7.84059e-16\n",
       " -4.59478e-16   1.0           3.57606e-17  2.29292e-16  6.71812e-16\n",
       " -4.95376e-16  -2.42731e-16   1.0          1.12579e-15  1.94689e-15\n",
       " -3.65643e-16  -5.4455e-16   -3.80437e-16  1.0          1.28136e-15\n",
       "  1.04941e-15  -2.99388e-16  -3.80984e-16  4.36521e-16  1.0        "
      ]
     },
     "execution_count": 9,
     "metadata": {},
     "output_type": "execute_result"
    }
   ],
   "source": [
    "A * inv(A)"
   ]
  },
  {
   "cell_type": "code",
   "execution_count": 10,
   "metadata": {
    "collapsed": false
   },
   "outputs": [
    {
     "data": {
      "text/plain": [
       "5×5 Array{Int64,2}:\n",
       " 0  0  0  0  0\n",
       " 0  0  0  0  0\n",
       " 0  0  0  0  0\n",
       " 0  0  0  0  0\n",
       " 0  0  0  0  0"
      ]
     },
     "execution_count": 10,
     "metadata": {},
     "output_type": "execute_result"
    }
   ],
   "source": [
    "A = fill(0,5,5) # Fill a 5x5 array with 0's"
   ]
  },
  {
   "cell_type": "code",
   "execution_count": 11,
   "metadata": {
    "collapsed": false
   },
   "outputs": [],
   "source": [
    "# Exercise: Fill a 3x10 array with 7's\n"
   ]
  },
  {
   "cell_type": "markdown",
   "metadata": {},
   "source": [
    "# Let's create some addition tables"
   ]
  },
  {
   "cell_type": "code",
   "execution_count": 12,
   "metadata": {
    "collapsed": false
   },
   "outputs": [
    {
     "data": {
      "text/plain": [
       "5×5 Array{Int64,2}:\n",
       " 2  3  4  5   6\n",
       " 3  4  5  6   7\n",
       " 4  5  6  7   8\n",
       " 5  6  7  8   9\n",
       " 6  7  8  9  10"
      ]
     },
     "execution_count": 12,
     "metadata": {},
     "output_type": "execute_result"
    }
   ],
   "source": [
    "# Create an addition table: Nested for loop\n",
    "for i=1:5\n",
    "    for j=1:5\n",
    "        A[i,j] = i+j  # Square brackets for indices.  Also: indices start at 1, not 0.\n",
    "    end\n",
    "end\n",
    "\n",
    "A"
   ]
  },
  {
   "cell_type": "code",
   "execution_count": 13,
   "metadata": {
    "collapsed": false
   },
   "outputs": [
    {
     "data": {
      "text/plain": [
       "5×5 Array{Int64,2}:\n",
       " 2  3  4  5   6\n",
       " 3  4  5  6   7\n",
       " 4  5  6  7   8\n",
       " 5  6  7  8   9\n",
       " 6  7  8  9  10"
      ]
     },
     "execution_count": 13,
     "metadata": {},
     "output_type": "execute_result"
    }
   ],
   "source": [
    "# Create an addition table: \"Double\" for loop\n",
    "for i=1:5, j=1:5\n",
    "   A[i,j] = i+j  # Square brackets for indices.  Also: indices start at 1, not 0.\n",
    "end\n",
    "\n",
    "A"
   ]
  },
  {
   "cell_type": "code",
   "execution_count": 14,
   "metadata": {
    "collapsed": false
   },
   "outputs": [
    {
     "data": {
      "text/plain": [
       "5×5 Array{Int64,2}:\n",
       " 2  3  4  5   6\n",
       " 3  4  5  6   7\n",
       " 4  5  6  7   8\n",
       " 5  6  7  8   9\n",
       " 6  7  8  9  10"
      ]
     },
     "execution_count": 14,
     "metadata": {},
     "output_type": "execute_result"
    }
   ],
   "source": [
    "# Create an addition table: the Julia favorite way\n",
    "\n",
    "[i+j for i=1:5, j=1:5]\n",
    "\n",
    "# Vocabulary word of the day: Comprehension  (other languges use \"meshgrid\")"
   ]
  },
  {
   "cell_type": "code",
   "execution_count": 15,
   "metadata": {
    "collapsed": false
   },
   "outputs": [
    {
     "data": {
      "text/plain": [
       "15-element Array{Any,1}:\n",
       "  2\n",
       "  5\n",
       "  8\n",
       " 10\n",
       " 13\n",
       " 17\n",
       " 18\n",
       " 20\n",
       " 25\n",
       " 26\n",
       " 29\n",
       " 32\n",
       " 34\n",
       " 41\n",
       " 50"
      ]
     },
     "execution_count": 15,
     "metadata": {},
     "output_type": "execute_result"
    }
   ],
   "source": [
    "# Exercise and explore: What does this do?\n",
    "[ i*100 for i in (1:7).^2]\n",
    "\n",
    "# Exercise and explore: Explain this way to find numbers of the form x^2 + y^2 \n",
    "sort(unique(x^2+y^2 for x in 1:5 ,y in 1:5))  # This is called a generator "
   ]
  },
  {
   "cell_type": "code",
   "execution_count": 16,
   "metadata": {
    "collapsed": false
   },
   "outputs": [
    {
     "data": {
      "text/plain": [
       "1×1 Array{Int64,2}:\n",
       " 1"
      ]
     },
     "metadata": {},
     "output_type": "display_data"
    },
    {
     "data": {
      "text/plain": [
       "2×2 Array{Int64,2}:\n",
       " 1  2\n",
       " 2  4"
      ]
     },
     "metadata": {},
     "output_type": "display_data"
    },
    {
     "data": {
      "text/plain": [
       "3×3 Array{Int64,2}:\n",
       " 1  2  3\n",
       " 2  4  6\n",
       " 3  6  9"
      ]
     },
     "metadata": {},
     "output_type": "display_data"
    },
    {
     "data": {
      "text/plain": [
       "4×4 Array{Int64,2}:\n",
       " 1  2   3   4\n",
       " 2  4   6   8\n",
       " 3  6   9  12\n",
       " 4  8  12  16"
      ]
     },
     "metadata": {},
     "output_type": "display_data"
    },
    {
     "data": {
      "text/plain": [
       "5×5 Array{Int64,2}:\n",
       " 1   2   3   4   5\n",
       " 2   4   6   8  10\n",
       " 3   6   9  12  15\n",
       " 4   8  12  16  20\n",
       " 5  10  15  20  25"
      ]
     },
     "metadata": {},
     "output_type": "display_data"
    }
   ],
   "source": [
    "# Suppose we want to see nxn addition tables for n=1,2,3,4,5\n",
    "for n=1:5\n",
    "    display([i*j for i=1:n,j=1:n])\n",
    "end"
   ]
  },
  {
   "cell_type": "markdown",
   "metadata": {},
   "source": [
    "# Interact is a \"package\" with the `@manipulate` \"macro\""
   ]
  },
  {
   "cell_type": "code",
   "execution_count": 17,
   "metadata": {
    "collapsed": false
   },
   "outputs": [
    {
     "data": {
      "text/html": [
       "<div id=\"interact-js-shim\">\n",
       "    <script charset=\"utf-8\">\n",
       "(function (IPython, $, _, MathJax) {\n",
       "    $.event.special.destroyed = {\n",
       "\tremove: function(o) {\n",
       "\t    if (o.handler) {\n",
       "\t\to.handler.apply(this, arguments)\n",
       "\t    }\n",
       "\t}\n",
       "    }\n",
       "\n",
       "    var OutputArea = IPython.version >= \"4.0.0\" ? require(\"notebook/js/outputarea\").OutputArea : IPython.OutputArea;\n",
       "\n",
       "    var redrawValue = function (container, type, val) {\n",
       "\tvar selector = $(\"<div/>\");\n",
       "\tvar oa = new OutputArea(_.extend(selector, {\n",
       "\t    selector: selector,\n",
       "\t    prompt_area: true,\n",
       "\t    events: IPython.events,\n",
       "\t    keyboard_manager: IPython.keyboard_manager\n",
       "\t})); // Hack to work with IPython 2.1.0\n",
       "\n",
       "\tswitch (type) {\n",
       "\tcase \"image/png\":\n",
       "            var _src = 'data:' + type + ';base64,' + val;\n",
       "\t    $(container).find(\"img\").attr('src', _src);\n",
       "\t    break;\n",
       "\tcase \"text/latex\":\n",
       "\t\tif (MathJax){\n",
       "\t\t\tvar math = MathJax.Hub.getAllJax(container)[0];\n",
       "\t\t\tMathJax.Hub.Queue([\"Text\", math, val.replace(/^\\${1,2}|\\${1,2}$/g, '')]);\n",
       "\t\t\tbreak;\n",
       "\t\t}\n",
       "\tdefault:\n",
       "\t    var toinsert = OutputArea.append_map[type].apply(\n",
       "\t\toa, [val, {}, selector]\n",
       "\t    );\n",
       "\t    $(container).empty().append(toinsert.contents());\n",
       "\t    selector.remove();\n",
       "\t}\n",
       "    }\n",
       "\n",
       "\n",
       "    $(document).ready(function() {\n",
       "\tfunction initComm(evt, data) {\n",
       "\t    var comm_manager = data.kernel.comm_manager;\n",
       "        //_.extend(comm_manager.targets, require(\"widgets/js/widget\"))\n",
       "\t    comm_manager.register_target(\"Signal\", function (comm) {\n",
       "            comm.on_msg(function (msg) {\n",
       "                var val = msg.content.data.value;\n",
       "                $(\".signal-\" + comm.comm_id).each(function() {\n",
       "                var type = $(this).data(\"type\");\n",
       "                if (typeof(val[type]) !== \"undefined\" && val[type] !== null) {\n",
       "                    redrawValue(this, type, val[type], type);\n",
       "                }\n",
       "                });\n",
       "                delete val;\n",
       "                delete msg.content.data.value;\n",
       "            });\n",
       "\t    });\n",
       "\n",
       "\t    // coordingate with Comm and redraw Signals\n",
       "\t    // XXX: Test using Reactive here to improve performance\n",
       "\t    $([IPython.events]).on(\n",
       "\t\t'output_appended.OutputArea', function (event, type, value, md, toinsert) {\n",
       "\t\t    if (md && md.reactive) {\n",
       "                // console.log(md.comm_id);\n",
       "                toinsert.addClass(\"signal-\" + md.comm_id);\n",
       "                toinsert.data(\"type\", type);\n",
       "                // Signal back indicating the mimetype required\n",
       "                var comm_manager = IPython.notebook.kernel.comm_manager;\n",
       "                var comm = comm_manager.comms[md.comm_id];\n",
       "                comm.then(function (c) {\n",
       "                    c.send({action: \"subscribe_mime\",\n",
       "                       mime: type});\n",
       "                    toinsert.bind(\"destroyed\", function() {\n",
       "                        c.send({action: \"unsubscribe_mime\",\n",
       "                               mime: type});\n",
       "                    });\n",
       "                })\n",
       "\t\t    }\n",
       "\t    });\n",
       "\t}\n",
       "\n",
       "\ttry {\n",
       "\t    // try to initialize right away. otherwise, wait on the status_started event.\n",
       "\t    initComm(undefined, IPython.notebook);\n",
       "\t} catch (e) {\n",
       "\t    $([IPython.events]).on('kernel_created.Kernel kernel_created.Session', initComm);\n",
       "\t}\n",
       "    });\n",
       "})(IPython, jQuery, _, MathJax);\n",
       "</script>\n",
       "    <script>\n",
       "        window.interactLoadedFlag = true\n",
       "       $(\"#interact-js-shim\").bind(\"destroyed\", function () {\n",
       "           if (window.interactLoadedFlag) {\n",
       "               console.warn(\"JavaScript required by Interact will be removed if you remove this cell or run using Interact more than once.\")\n",
       "           }\n",
       "       })\n",
       "       $([IPython.events]).on(\"kernel_starting.Kernel kernel_restarting.Kernel\", function () { window.interactLoadedFlag = false })\n",
       "   </script>\n",
       "</div>"
      ]
     },
     "metadata": {},
     "output_type": "display_data"
    }
   ],
   "source": [
    "# way more fun way to \"interact\" with data\n",
    "using Interact # using loads a \"package\""
   ]
  },
  {
   "cell_type": "code",
   "execution_count": 18,
   "metadata": {
    "collapsed": false
   },
   "outputs": [
    {
     "data": {
      "text/html": [],
      "text/plain": [
       "Interact.Options{:SelectionSlider,Int64}(Signal{Int64}(500, nactions=1),\"n\",500,\"500\",Interact.OptionDict(DataStructures.OrderedDict(\"1\"=>1,\"2\"=>2,\"3\"=>3,\"4\"=>4,\"5\"=>5,\"6\"=>6,\"7\"=>7,\"8\"=>8,\"9\"=>9,\"10\"=>10…),Dict(306=>\"306\",29=>\"29\",74=>\"74\",905=>\"905\",176=>\"176\",892=>\"892\",285=>\"285\",318=>\"318\",873=>\"873\",975=>\"975\"…)),Any[],Any[],true,\"horizontal\")"
      ]
     },
     "metadata": {},
     "output_type": "display_data"
    },
    {
     "data": {
      "text/plain": [
       "500"
      ]
     },
     "execution_count": 18,
     "metadata": {
      "comm_id": "22e7707c-3fce-4f45-a931-0ed02d9094da",
      "reactive": true
     },
     "output_type": "execute_result"
    }
   ],
   "source": [
    "@manipulate for n=1:1000\n",
    "    n\n",
    "end"
   ]
  },
  {
   "cell_type": "code",
   "execution_count": 19,
   "metadata": {
    "collapsed": false
   },
   "outputs": [
    {
     "data": {
      "text/html": [],
      "text/plain": [
       "Interact.Options{:SelectionSlider,Int64}(Signal{Int64}(10, nactions=1),\"n\",10,\"10\",Interact.OptionDict(DataStructures.OrderedDict(\"1\"=>1,\"2\"=>2,\"3\"=>3,\"4\"=>4,\"5\"=>5,\"6\"=>6,\"7\"=>7,\"8\"=>8,\"9\"=>9,\"10\"=>10…),Dict(18=>\"18\",2=>\"2\",16=>\"16\",11=>\"11\",7=>\"7\",9=>\"9\",10=>\"10\",19=>\"19\",17=>\"17\",8=>\"8\"…)),Any[],Any[],true,\"horizontal\")"
      ]
     },
     "metadata": {},
     "output_type": "display_data"
    },
    {
     "data": {
      "text/plain": [
       "10×10 Array{Int64,2}:\n",
       "  1   2   3   4   5   6   7   8   9   10\n",
       "  2   4   6   8  10  12  14  16  18   20\n",
       "  3   6   9  12  15  18  21  24  27   30\n",
       "  4   8  12  16  20  24  28  32  36   40\n",
       "  5  10  15  20  25  30  35  40  45   50\n",
       "  6  12  18  24  30  36  42  48  54   60\n",
       "  7  14  21  28  35  42  49  56  63   70\n",
       "  8  16  24  32  40  48  56  64  72   80\n",
       "  9  18  27  36  45  54  63  72  81   90\n",
       " 10  20  30  40  50  60  70  80  90  100"
      ]
     },
     "execution_count": 19,
     "metadata": {
      "comm_id": "250dda60-43d0-4712-9b17-51fc0bab86cf",
      "reactive": true
     },
     "output_type": "execute_result"
    }
   ],
   "source": [
    "using Interact   # using loads a \"package\" \n",
    "@manipulate for n=1:20\n",
    "    [i*j for i=1:n,j=1:n]\n",
    "end"
   ]
  },
  {
   "cell_type": "code",
   "execution_count": 20,
   "metadata": {
    "collapsed": false
   },
   "outputs": [
    {
     "data": {
      "text/html": [],
      "text/plain": [
       "Interact.Options{:SelectionSlider,Int64}(Signal{Int64}(6, nactions=1),\"n\",6,\"6\",Interact.OptionDict(DataStructures.OrderedDict(\"3\"=>3,\"4\"=>4,\"5\"=>5,\"6\"=>6,\"7\"=>7,\"8\"=>8,\"9\"=>9,\"10\"=>10),Dict(7=>\"7\",4=>\"4\",9=>\"9\",10=>\"10\",3=>\"3\",5=>\"5\",8=>\"8\",6=>\"6\")),Any[],Any[],true,\"horizontal\")"
      ]
     },
     "metadata": {},
     "output_type": "display_data"
    },
    {
     "data": {
      "text/html": [],
      "text/plain": [
       "Interact.Options{:SelectionSlider,Int64}(Signal{Int64}(5, nactions=1),\"i\",5,\"5\",Interact.OptionDict(DataStructures.OrderedDict(\"1\"=>1,\"2\"=>2,\"3\"=>3,\"4\"=>4,\"5\"=>5,\"6\"=>6,\"7\"=>7,\"8\"=>8,\"9\"=>9),Dict(7=>\"7\",4=>\"4\",9=>\"9\",2=>\"2\",3=>\"3\",5=>\"5\",8=>\"8\",6=>\"6\",1=>\"1\")),Any[],Any[],true,\"horizontal\")"
      ]
     },
     "metadata": {},
     "output_type": "display_data"
    },
    {
     "data": {
      "text/plain": [
       "6×6 Array{Int64,2}:\n",
       " 5  5  5  0  0  0\n",
       " 5  5  5  0  0  0\n",
       " 5  5  5  0  0  0\n",
       " 0  0  0  0  0  0\n",
       " 0  0  0  0  0  0\n",
       " 0  0  0  0  0  0"
      ]
     },
     "execution_count": 20,
     "metadata": {
      "comm_id": "6105e7a6-d73b-400c-aafd-eecc05864ab5",
      "reactive": true
     },
     "output_type": "execute_result"
    }
   ],
   "source": [
    "#double slider!!  Put a 3x3 block of i's in an n x n matrix of zeros\n",
    "@manipulate for n=3:10, i=1:9\n",
    "   A = fill(0,n,n)\n",
    "   A[1:3, 1:3] = i  \n",
    "A\n",
    "end"
   ]
  },
  {
   "cell_type": "markdown",
   "metadata": {},
   "source": [
    "# Functions"
   ]
  },
  {
   "cell_type": "code",
   "execution_count": 21,
   "metadata": {
    "collapsed": false
   },
   "outputs": [
    {
     "data": {
      "text/plain": [
       "f (generic function with 1 method)"
      ]
     },
     "execution_count": 21,
     "metadata": {},
     "output_type": "execute_result"
    }
   ],
   "source": [
    "function f(x)\n",
    "    x^2\n",
    "end"
   ]
  },
  {
   "cell_type": "code",
   "execution_count": 22,
   "metadata": {
    "collapsed": false
   },
   "outputs": [
    {
     "data": {
      "text/plain": [
       "100"
      ]
     },
     "execution_count": 22,
     "metadata": {},
     "output_type": "execute_result"
    }
   ],
   "source": [
    "f(10)"
   ]
  },
  {
   "cell_type": "code",
   "execution_count": 23,
   "metadata": {
    "collapsed": false
   },
   "outputs": [
    {
     "data": {
      "text/plain": [
       "3×3 Array{Float64,2}:\n",
       " 0.908326  0.128318  0.360575\n",
       " 0.873241  0.320165  0.370935\n",
       " 0.96396   0.698233  0.99753 "
      ]
     },
     "execution_count": 23,
     "metadata": {},
     "output_type": "execute_result"
    }
   ],
   "source": [
    "f(rand(3,3))"
   ]
  },
  {
   "cell_type": "code",
   "execution_count": 24,
   "metadata": {
    "collapsed": false
   },
   "outputs": [
    {
     "name": "stderr",
     "output_type": "stream",
     "text": [
      "WARNING: Method definition f(Any) in module Main at In[21]:2 overwritten at In[24]:2.\n"
     ]
    },
    {
     "data": {
      "text/plain": [
       "f (generic function with 2 methods)"
      ]
     },
     "execution_count": 24,
     "metadata": {},
     "output_type": "execute_result"
    }
   ],
   "source": [
    "function f(x, power=2)\n",
    "    x^power\n",
    "end"
   ]
  },
  {
   "cell_type": "code",
   "execution_count": 25,
   "metadata": {
    "collapsed": false
   },
   "outputs": [
    {
     "data": {
      "text/plain": [
       "49"
      ]
     },
     "execution_count": 25,
     "metadata": {},
     "output_type": "execute_result"
    }
   ],
   "source": [
    "f(7)"
   ]
  },
  {
   "cell_type": "code",
   "execution_count": 26,
   "metadata": {
    "collapsed": false
   },
   "outputs": [
    {
     "data": {
      "text/plain": [
       "1000"
      ]
     },
     "execution_count": 26,
     "metadata": {},
     "output_type": "execute_result"
    }
   ],
   "source": [
    "f(10,3)"
   ]
  },
  {
   "cell_type": "code",
   "execution_count": 27,
   "metadata": {
    "collapsed": false
   },
   "outputs": [
    {
     "data": {
      "text/plain": [
       "insert_block (generic function with 2 methods)"
      ]
     },
     "execution_count": 27,
     "metadata": {},
     "output_type": "execute_result"
    }
   ],
   "source": [
    "function insert_block(A, i, j, what=7)\n",
    "    B = A[:,:]        # B is a copy of A       \n",
    "    B[ i:i+2, j:j+2] = fill(what,3,3)\n",
    "    B\n",
    "end"
   ]
  },
  {
   "cell_type": "code",
   "execution_count": 28,
   "metadata": {
    "collapsed": false
   },
   "outputs": [
    {
     "data": {
      "text/plain": [
       "9×9 Array{Int64,2}:\n",
       " 0  0  0  0  0  0  0  0  0\n",
       " 0  0  0  0  0  0  0  0  0\n",
       " 0  0  0  0  7  7  7  0  0\n",
       " 0  0  0  0  7  7  7  0  0\n",
       " 0  0  0  0  7  7  7  0  0\n",
       " 0  0  0  0  0  0  0  0  0\n",
       " 0  0  0  0  0  0  0  0  0\n",
       " 0  0  0  0  0  0  0  0  0\n",
       " 0  0  0  0  0  0  0  0  0"
      ]
     },
     "execution_count": 28,
     "metadata": {},
     "output_type": "execute_result"
    }
   ],
   "source": [
    "A = fill(0,9,9)\n",
    "insert_block(A, 3, 5)"
   ]
  },
  {
   "cell_type": "code",
   "execution_count": 29,
   "metadata": {
    "collapsed": false
   },
   "outputs": [
    {
     "data": {
      "text/plain": [
       "9×9 Array{Int64,2}:\n",
       " 0  0  0  0  0  0  0  0  0\n",
       " 0  0  0  0  0  0  0  0  0\n",
       " 0  0  0  0  2  2  2  0  0\n",
       " 0  0  0  0  2  2  2  0  0\n",
       " 0  0  0  0  2  2  2  0  0\n",
       " 0  0  0  0  0  0  0  0  0\n",
       " 0  0  0  0  0  0  0  0  0\n",
       " 0  0  0  0  0  0  0  0  0\n",
       " 0  0  0  0  0  0  0  0  0"
      ]
     },
     "execution_count": 29,
     "metadata": {},
     "output_type": "execute_result"
    }
   ],
   "source": [
    "A = fill(0,9,9)\n",
    "insert_block(A, 3, 5, 2)  # Use 2 instead of 7"
   ]
  },
  {
   "cell_type": "code",
   "execution_count": 30,
   "metadata": {
    "collapsed": false
   },
   "outputs": [
    {
     "data": {
      "text/html": [],
      "text/plain": [
       "Interact.Options{:SelectionSlider,Int64}(Signal{Int64}(4, nactions=1),\"i\",4,\"4\",Interact.OptionDict(DataStructures.OrderedDict(\"1\"=>1,\"2\"=>2,\"3\"=>3,\"4\"=>4,\"5\"=>5,\"6\"=>6,\"7\"=>7,\"8\"=>8),Dict(7=>\"7\",4=>\"4\",2=>\"2\",3=>\"3\",5=>\"5\",8=>\"8\",6=>\"6\",1=>\"1\")),Any[],Any[],true,\"horizontal\")"
      ]
     },
     "metadata": {},
     "output_type": "display_data"
    },
    {
     "data": {
      "text/html": [],
      "text/plain": [
       "Interact.Options{:SelectionSlider,Int64}(Signal{Int64}(4, nactions=1),\"j\",4,\"4\",Interact.OptionDict(DataStructures.OrderedDict(\"1\"=>1,\"2\"=>2,\"3\"=>3,\"4\"=>4,\"5\"=>5,\"6\"=>6,\"7\"=>7,\"8\"=>8),Dict(7=>\"7\",4=>\"4\",2=>\"2\",3=>\"3\",5=>\"5\",8=>\"8\",6=>\"6\",1=>\"1\")),Any[],Any[],true,\"horizontal\")"
      ]
     },
     "metadata": {},
     "output_type": "display_data"
    },
    {
     "data": {
      "text/plain": [
       "10×10 Array{Int64,2}:\n",
       " 0  0  0  0  0  0  0  0  0  0\n",
       " 0  0  0  0  0  0  0  0  0  0\n",
       " 0  0  0  0  0  0  0  0  0  0\n",
       " 0  0  0  7  7  7  0  0  0  0\n",
       " 0  0  0  7  7  7  0  0  0  0\n",
       " 0  0  0  7  7  7  0  0  0  0\n",
       " 0  0  0  0  0  0  0  0  0  0\n",
       " 0  0  0  0  0  0  0  0  0  0\n",
       " 0  0  0  0  0  0  0  0  0  0\n",
       " 0  0  0  0  0  0  0  0  0  0"
      ]
     },
     "execution_count": 30,
     "metadata": {
      "comm_id": "9e827f71-2164-4756-b880-aebd0420617d",
      "reactive": true
     },
     "output_type": "execute_result"
    }
   ],
   "source": [
    "A = fill(0,10,10)\n",
    "n =size(A,1)\n",
    "@manipulate for i in 1:n-2, j in 1:n-2\n",
    "    insert_block(A, i,j)\n",
    "end"
   ]
  },
  {
   "cell_type": "markdown",
   "metadata": {},
   "source": [
    "# Strings"
   ]
  },
  {
   "cell_type": "code",
   "execution_count": 31,
   "metadata": {
    "collapsed": false
   },
   "outputs": [
    {
     "data": {
      "text/plain": [
       "\"Hello\""
      ]
     },
     "execution_count": 31,
     "metadata": {},
     "output_type": "execute_result"
    }
   ],
   "source": [
    "S = \"Hello\""
   ]
  },
  {
   "cell_type": "code",
   "execution_count": 32,
   "metadata": {
    "collapsed": false
   },
   "outputs": [
    {
     "data": {
      "text/plain": [
       "\"Jello\""
      ]
     },
     "execution_count": 32,
     "metadata": {},
     "output_type": "execute_result"
    }
   ],
   "source": [
    "replace(S, \"H\", \"J\")"
   ]
  },
  {
   "cell_type": "code",
   "execution_count": 33,
   "metadata": {
    "collapsed": false
   },
   "outputs": [
    {
     "data": {
      "text/plain": [
       "\"Hello Hello Julia\""
      ]
     },
     "execution_count": 33,
     "metadata": {},
     "output_type": "execute_result"
    }
   ],
   "source": [
    "string(S,\" \", S, \" \",\"Julia\")"
   ]
  },
  {
   "cell_type": "markdown",
   "metadata": {},
   "source": [
    "More about strings: <a href=\"http://docs.julialang.org/en/stable/manual/strings/\"> Julia Doc on Strings </a>"
   ]
  },
  {
   "cell_type": "code",
   "execution_count": 34,
   "metadata": {
    "collapsed": false
   },
   "outputs": [
    {
     "data": {
      "text/plain": [
       "10×10 Array{String,2}:\n",
       " \"Julia\"  \"Julia\"  \"Julia\"  \"Julia\"  …  \"Julia\"  \"Julia\"  \"Julia\"  \"Julia\"\n",
       " \"Julia\"  \"Julia\"  \"Julia\"  \"Julia\"     \"Julia\"  \"Julia\"  \"Julia\"  \"Julia\"\n",
       " \"Julia\"  \"Julia\"  \"Julia\"  \"Julia\"     \"Julia\"  \"Julia\"  \"Julia\"  \"Julia\"\n",
       " \"Julia\"  \"Julia\"  \"Julia\"  \"Julia\"     \"Julia\"  \"Julia\"  \"Julia\"  \"Julia\"\n",
       " \"Julia\"  \"Julia\"  \"Julia\"  \"Julia\"     \"Julia\"  \"Julia\"  \"Julia\"  \"Julia\"\n",
       " \"Julia\"  \"Julia\"  \"Julia\"  \"Julia\"  …  \"Julia\"  \"Julia\"  \"Julia\"  \"Julia\"\n",
       " \"Julia\"  \"Julia\"  \"Julia\"  \"Julia\"     \"Julia\"  \"Julia\"  \"Julia\"  \"Julia\"\n",
       " \"Julia\"  \"Julia\"  \"Julia\"  \"Julia\"     \"Julia\"  \"Julia\"  \"Julia\"  \"Julia\"\n",
       " \"Julia\"  \"Julia\"  \"Julia\"  \"Julia\"     \"Julia\"  \"Julia\"  \"Julia\"  \"Julia\"\n",
       " \"Julia\"  \"Julia\"  \"Julia\"  \"Julia\"     \"Julia\"  \"Julia\"  \"Julia\"  \"Julia\""
      ]
     },
     "execution_count": 34,
     "metadata": {},
     "output_type": "execute_result"
    }
   ],
   "source": [
    "A = fill(\"Julia\",10,10)"
   ]
  },
  {
   "cell_type": "code",
   "execution_count": 35,
   "metadata": {
    "collapsed": false
   },
   "outputs": [],
   "source": [
    "# Fancy string printing\n",
    "function Base.show{T<:String}(io::IO, ::MIME\"text/html\", M::Matrix{T}) \n",
    "    max_length = maximum(length.(M))\n",
    "    dv=\"<div style='display:flex;flex-direction:row'>\"\n",
    "    print(io, dv*join([join(\"<div style='width:40px; text-align:center'>\".*M[i,:].*\"</div>\", \" \") for i in 1:size(M, 1)]\n",
    "            , \"</div>$dv\")*\"</div>\")\n",
    "end"
   ]
  },
  {
   "cell_type": "code",
   "execution_count": 36,
   "metadata": {
    "collapsed": false
   },
   "outputs": [
    {
     "data": {
      "text/html": [
       "<div style='display:flex;flex-direction:row'><div style='width:40px; text-align:center'>Julia</div> <div style='width:40px; text-align:center'>Julia</div> <div style='width:40px; text-align:center'>Julia</div> <div style='width:40px; text-align:center'>Julia</div> <div style='width:40px; text-align:center'>Julia</div> <div style='width:40px; text-align:center'>Julia</div> <div style='width:40px; text-align:center'>Julia</div> <div style='width:40px; text-align:center'>Julia</div> <div style='width:40px; text-align:center'>Julia</div> <div style='width:40px; text-align:center'>Julia</div></div><div style='display:flex;flex-direction:row'><div style='width:40px; text-align:center'>Julia</div> <div style='width:40px; text-align:center'>Julia</div> <div style='width:40px; text-align:center'>Julia</div> <div style='width:40px; text-align:center'>Julia</div> <div style='width:40px; text-align:center'>Julia</div> <div style='width:40px; text-align:center'>Julia</div> <div style='width:40px; text-align:center'>Julia</div> <div style='width:40px; text-align:center'>Julia</div> <div style='width:40px; text-align:center'>Julia</div> <div style='width:40px; text-align:center'>Julia</div></div><div style='display:flex;flex-direction:row'><div style='width:40px; text-align:center'>Julia</div> <div style='width:40px; text-align:center'>Julia</div> <div style='width:40px; text-align:center'>Julia</div> <div style='width:40px; text-align:center'>Julia</div> <div style='width:40px; text-align:center'>Julia</div> <div style='width:40px; text-align:center'>Julia</div> <div style='width:40px; text-align:center'>Julia</div> <div style='width:40px; text-align:center'>Julia</div> <div style='width:40px; text-align:center'>Julia</div> <div style='width:40px; text-align:center'>Julia</div></div><div style='display:flex;flex-direction:row'><div style='width:40px; text-align:center'>Julia</div> <div style='width:40px; text-align:center'>Julia</div> <div style='width:40px; text-align:center'>Julia</div> <div style='width:40px; text-align:center'>Julia</div> <div style='width:40px; text-align:center'>Julia</div> <div style='width:40px; text-align:center'>Julia</div> <div style='width:40px; text-align:center'>Julia</div> <div style='width:40px; text-align:center'>Julia</div> <div style='width:40px; text-align:center'>Julia</div> <div style='width:40px; text-align:center'>Julia</div></div><div style='display:flex;flex-direction:row'><div style='width:40px; text-align:center'>Julia</div> <div style='width:40px; text-align:center'>Julia</div> <div style='width:40px; text-align:center'>Julia</div> <div style='width:40px; text-align:center'>Julia</div> <div style='width:40px; text-align:center'>Julia</div> <div style='width:40px; text-align:center'>Julia</div> <div style='width:40px; text-align:center'>Julia</div> <div style='width:40px; text-align:center'>Julia</div> <div style='width:40px; text-align:center'>Julia</div> <div style='width:40px; text-align:center'>Julia</div></div><div style='display:flex;flex-direction:row'><div style='width:40px; text-align:center'>Julia</div> <div style='width:40px; text-align:center'>Julia</div> <div style='width:40px; text-align:center'>Julia</div> <div style='width:40px; text-align:center'>Julia</div> <div style='width:40px; text-align:center'>Julia</div> <div style='width:40px; text-align:center'>Julia</div> <div style='width:40px; text-align:center'>Julia</div> <div style='width:40px; text-align:center'>Julia</div> <div style='width:40px; text-align:center'>Julia</div> <div style='width:40px; text-align:center'>Julia</div></div><div style='display:flex;flex-direction:row'><div style='width:40px; text-align:center'>Julia</div> <div style='width:40px; text-align:center'>Julia</div> <div style='width:40px; text-align:center'>Julia</div> <div style='width:40px; text-align:center'>Julia</div> <div style='width:40px; text-align:center'>Julia</div> <div style='width:40px; text-align:center'>Julia</div> <div style='width:40px; text-align:center'>Julia</div> <div style='width:40px; text-align:center'>Julia</div> <div style='width:40px; text-align:center'>Julia</div> <div style='width:40px; text-align:center'>Julia</div></div><div style='display:flex;flex-direction:row'><div style='width:40px; text-align:center'>Julia</div> <div style='width:40px; text-align:center'>Julia</div> <div style='width:40px; text-align:center'>Julia</div> <div style='width:40px; text-align:center'>Julia</div> <div style='width:40px; text-align:center'>Julia</div> <div style='width:40px; text-align:center'>Julia</div> <div style='width:40px; text-align:center'>Julia</div> <div style='width:40px; text-align:center'>Julia</div> <div style='width:40px; text-align:center'>Julia</div> <div style='width:40px; text-align:center'>Julia</div></div><div style='display:flex;flex-direction:row'><div style='width:40px; text-align:center'>Julia</div> <div style='width:40px; text-align:center'>Julia</div> <div style='width:40px; text-align:center'>Julia</div> <div style='width:40px; text-align:center'>Julia</div> <div style='width:40px; text-align:center'>Julia</div> <div style='width:40px; text-align:center'>Julia</div> <div style='width:40px; text-align:center'>Julia</div> <div style='width:40px; text-align:center'>Julia</div> <div style='width:40px; text-align:center'>Julia</div> <div style='width:40px; text-align:center'>Julia</div></div><div style='display:flex;flex-direction:row'><div style='width:40px; text-align:center'>Julia</div> <div style='width:40px; text-align:center'>Julia</div> <div style='width:40px; text-align:center'>Julia</div> <div style='width:40px; text-align:center'>Julia</div> <div style='width:40px; text-align:center'>Julia</div> <div style='width:40px; text-align:center'>Julia</div> <div style='width:40px; text-align:center'>Julia</div> <div style='width:40px; text-align:center'>Julia</div> <div style='width:40px; text-align:center'>Julia</div> <div style='width:40px; text-align:center'>Julia</div></div>"
      ],
      "text/plain": [
       "10×10 Array{String,2}:\n",
       " \"Julia\"  \"Julia\"  \"Julia\"  \"Julia\"  …  \"Julia\"  \"Julia\"  \"Julia\"  \"Julia\"\n",
       " \"Julia\"  \"Julia\"  \"Julia\"  \"Julia\"     \"Julia\"  \"Julia\"  \"Julia\"  \"Julia\"\n",
       " \"Julia\"  \"Julia\"  \"Julia\"  \"Julia\"     \"Julia\"  \"Julia\"  \"Julia\"  \"Julia\"\n",
       " \"Julia\"  \"Julia\"  \"Julia\"  \"Julia\"     \"Julia\"  \"Julia\"  \"Julia\"  \"Julia\"\n",
       " \"Julia\"  \"Julia\"  \"Julia\"  \"Julia\"     \"Julia\"  \"Julia\"  \"Julia\"  \"Julia\"\n",
       " \"Julia\"  \"Julia\"  \"Julia\"  \"Julia\"  …  \"Julia\"  \"Julia\"  \"Julia\"  \"Julia\"\n",
       " \"Julia\"  \"Julia\"  \"Julia\"  \"Julia\"     \"Julia\"  \"Julia\"  \"Julia\"  \"Julia\"\n",
       " \"Julia\"  \"Julia\"  \"Julia\"  \"Julia\"     \"Julia\"  \"Julia\"  \"Julia\"  \"Julia\"\n",
       " \"Julia\"  \"Julia\"  \"Julia\"  \"Julia\"     \"Julia\"  \"Julia\"  \"Julia\"  \"Julia\"\n",
       " \"Julia\"  \"Julia\"  \"Julia\"  \"Julia\"     \"Julia\"  \"Julia\"  \"Julia\"  \"Julia\""
      ]
     },
     "execution_count": 36,
     "metadata": {},
     "output_type": "execute_result"
    }
   ],
   "source": [
    "A"
   ]
  },
  {
   "cell_type": "code",
   "execution_count": 37,
   "metadata": {
    "collapsed": false
   },
   "outputs": [
    {
     "data": {
      "text/html": [],
      "text/plain": [
       "Interact.Options{:SelectionSlider,Int64}(Signal{Int64}(4, nactions=1),\"i\",4,\"4\",Interact.OptionDict(DataStructures.OrderedDict(\"1\"=>1,\"2\"=>2,\"3\"=>3,\"4\"=>4,\"5\"=>5,\"6\"=>6,\"7\"=>7,\"8\"=>8),Dict(7=>\"7\",4=>\"4\",2=>\"2\",3=>\"3\",5=>\"5\",8=>\"8\",6=>\"6\",1=>\"1\")),Any[],Any[],true,\"horizontal\")"
      ]
     },
     "metadata": {},
     "output_type": "display_data"
    },
    {
     "data": {
      "text/html": [],
      "text/plain": [
       "Interact.Options{:SelectionSlider,Int64}(Signal{Int64}(4, nactions=1),\"j\",4,\"4\",Interact.OptionDict(DataStructures.OrderedDict(\"1\"=>1,\"2\"=>2,\"3\"=>3,\"4\"=>4,\"5\"=>5,\"6\"=>6,\"7\"=>7,\"8\"=>8),Dict(7=>\"7\",4=>\"4\",2=>\"2\",3=>\"3\",5=>\"5\",8=>\"8\",6=>\"6\",1=>\"1\")),Any[],Any[],true,\"horizontal\")"
      ]
     },
     "metadata": {},
     "output_type": "display_data"
    },
    {
     "data": {
      "text/plain": [
       "10×10 Array{Int64,2}:\n",
       " 0  0  0  0  0  0  0  0  0  0\n",
       " 0  0  0  0  0  0  0  0  0  0\n",
       " 0  0  0  0  0  0  0  0  0  0\n",
       " 0  0  0  7  7  7  0  0  0  0\n",
       " 0  0  0  7  7  7  0  0  0  0\n",
       " 0  0  0  7  7  7  0  0  0  0\n",
       " 0  0  0  0  0  0  0  0  0  0\n",
       " 0  0  0  0  0  0  0  0  0  0\n",
       " 0  0  0  0  0  0  0  0  0  0\n",
       " 0  0  0  0  0  0  0  0  0  0"
      ]
     },
     "execution_count": 37,
     "metadata": {
      "comm_id": "da4e479f-b6d1-436c-81cc-a484463705f2",
      "reactive": true
     },
     "output_type": "execute_result"
    }
   ],
   "source": [
    "# Remember this ????\n",
    "A = fill(0,10,10)\n",
    "n = size(A,1)\n",
    "@manipulate for i in 1:n-2, j in 1:n-2\n",
    "    insert_block(A, i,j)\n",
    "end"
   ]
  },
  {
   "cell_type": "code",
   "execution_count": 38,
   "metadata": {
    "collapsed": false
   },
   "outputs": [
    {
     "data": {
      "text/html": [],
      "text/plain": [
       "Interact.Options{:SelectionSlider,Int64}(Signal{Int64}(4, nactions=1),\"i\",4,\"4\",Interact.OptionDict(DataStructures.OrderedDict(\"1\"=>1,\"2\"=>2,\"3\"=>3,\"4\"=>4,\"5\"=>5,\"6\"=>6,\"7\"=>7,\"8\"=>8),Dict(7=>\"7\",4=>\"4\",2=>\"2\",3=>\"3\",5=>\"5\",8=>\"8\",6=>\"6\",1=>\"1\")),Any[],Any[],true,\"horizontal\")"
      ]
     },
     "metadata": {},
     "output_type": "display_data"
    },
    {
     "data": {
      "text/html": [],
      "text/plain": [
       "Interact.Options{:SelectionSlider,Int64}(Signal{Int64}(4, nactions=1),\"j\",4,\"4\",Interact.OptionDict(DataStructures.OrderedDict(\"1\"=>1,\"2\"=>2,\"3\"=>3,\"4\"=>4,\"5\"=>5,\"6\"=>6,\"7\"=>7,\"8\"=>8),Dict(7=>\"7\",4=>\"4\",2=>\"2\",3=>\"3\",5=>\"5\",8=>\"8\",6=>\"6\",1=>\"1\")),Any[],Any[],true,\"horizontal\")"
      ]
     },
     "metadata": {},
     "output_type": "display_data"
    },
    {
     "data": {
      "text/html": [
       "<div style='display:flex;flex-direction:row'><div style='width:40px; text-align:center'>Julia</div> <div style='width:40px; text-align:center'>Julia</div> <div style='width:40px; text-align:center'>Julia</div> <div style='width:40px; text-align:center'>Julia</div> <div style='width:40px; text-align:center'>Julia</div> <div style='width:40px; text-align:center'>Julia</div> <div style='width:40px; text-align:center'>Julia</div> <div style='width:40px; text-align:center'>Julia</div> <div style='width:40px; text-align:center'>Julia</div> <div style='width:40px; text-align:center'>Julia</div></div><div style='display:flex;flex-direction:row'><div style='width:40px; text-align:center'>Julia</div> <div style='width:40px; text-align:center'>Julia</div> <div style='width:40px; text-align:center'>Julia</div> <div style='width:40px; text-align:center'>Julia</div> <div style='width:40px; text-align:center'>Julia</div> <div style='width:40px; text-align:center'>Julia</div> <div style='width:40px; text-align:center'>Julia</div> <div style='width:40px; text-align:center'>Julia</div> <div style='width:40px; text-align:center'>Julia</div> <div style='width:40px; text-align:center'>Julia</div></div><div style='display:flex;flex-direction:row'><div style='width:40px; text-align:center'>Julia</div> <div style='width:40px; text-align:center'>Julia</div> <div style='width:40px; text-align:center'>Julia</div> <div style='width:40px; text-align:center'>Julia</div> <div style='width:40px; text-align:center'>Julia</div> <div style='width:40px; text-align:center'>Julia</div> <div style='width:40px; text-align:center'>Julia</div> <div style='width:40px; text-align:center'>Julia</div> <div style='width:40px; text-align:center'>Julia</div> <div style='width:40px; text-align:center'>Julia</div></div><div style='display:flex;flex-direction:row'><div style='width:40px; text-align:center'>Julia</div> <div style='width:40px; text-align:center'>Julia</div> <div style='width:40px; text-align:center'>Julia</div> <div style='width:40px; text-align:center'> [FUN]</div> <div style='width:40px; text-align:center'> [FUN]</div> <div style='width:40px; text-align:center'> [FUN]</div> <div style='width:40px; text-align:center'>Julia</div> <div style='width:40px; text-align:center'>Julia</div> <div style='width:40px; text-align:center'>Julia</div> <div style='width:40px; text-align:center'>Julia</div></div><div style='display:flex;flex-direction:row'><div style='width:40px; text-align:center'>Julia</div> <div style='width:40px; text-align:center'>Julia</div> <div style='width:40px; text-align:center'>Julia</div> <div style='width:40px; text-align:center'> [FUN]</div> <div style='width:40px; text-align:center'> [FUN]</div> <div style='width:40px; text-align:center'> [FUN]</div> <div style='width:40px; text-align:center'>Julia</div> <div style='width:40px; text-align:center'>Julia</div> <div style='width:40px; text-align:center'>Julia</div> <div style='width:40px; text-align:center'>Julia</div></div><div style='display:flex;flex-direction:row'><div style='width:40px; text-align:center'>Julia</div> <div style='width:40px; text-align:center'>Julia</div> <div style='width:40px; text-align:center'>Julia</div> <div style='width:40px; text-align:center'> [FUN]</div> <div style='width:40px; text-align:center'> [FUN]</div> <div style='width:40px; text-align:center'> [FUN]</div> <div style='width:40px; text-align:center'>Julia</div> <div style='width:40px; text-align:center'>Julia</div> <div style='width:40px; text-align:center'>Julia</div> <div style='width:40px; text-align:center'>Julia</div></div><div style='display:flex;flex-direction:row'><div style='width:40px; text-align:center'>Julia</div> <div style='width:40px; text-align:center'>Julia</div> <div style='width:40px; text-align:center'>Julia</div> <div style='width:40px; text-align:center'>Julia</div> <div style='width:40px; text-align:center'>Julia</div> <div style='width:40px; text-align:center'>Julia</div> <div style='width:40px; text-align:center'>Julia</div> <div style='width:40px; text-align:center'>Julia</div> <div style='width:40px; text-align:center'>Julia</div> <div style='width:40px; text-align:center'>Julia</div></div><div style='display:flex;flex-direction:row'><div style='width:40px; text-align:center'>Julia</div> <div style='width:40px; text-align:center'>Julia</div> <div style='width:40px; text-align:center'>Julia</div> <div style='width:40px; text-align:center'>Julia</div> <div style='width:40px; text-align:center'>Julia</div> <div style='width:40px; text-align:center'>Julia</div> <div style='width:40px; text-align:center'>Julia</div> <div style='width:40px; text-align:center'>Julia</div> <div style='width:40px; text-align:center'>Julia</div> <div style='width:40px; text-align:center'>Julia</div></div><div style='display:flex;flex-direction:row'><div style='width:40px; text-align:center'>Julia</div> <div style='width:40px; text-align:center'>Julia</div> <div style='width:40px; text-align:center'>Julia</div> <div style='width:40px; text-align:center'>Julia</div> <div style='width:40px; text-align:center'>Julia</div> <div style='width:40px; text-align:center'>Julia</div> <div style='width:40px; text-align:center'>Julia</div> <div style='width:40px; text-align:center'>Julia</div> <div style='width:40px; text-align:center'>Julia</div> <div style='width:40px; text-align:center'>Julia</div></div><div style='display:flex;flex-direction:row'><div style='width:40px; text-align:center'>Julia</div> <div style='width:40px; text-align:center'>Julia</div> <div style='width:40px; text-align:center'>Julia</div> <div style='width:40px; text-align:center'>Julia</div> <div style='width:40px; text-align:center'>Julia</div> <div style='width:40px; text-align:center'>Julia</div> <div style='width:40px; text-align:center'>Julia</div> <div style='width:40px; text-align:center'>Julia</div> <div style='width:40px; text-align:center'>Julia</div> <div style='width:40px; text-align:center'>Julia</div></div>"
      ],
      "text/plain": [
       "10×10 Array{String,2}:\n",
       " \"Julia\"  \"Julia\"  \"Julia\"  \"Julia\"   …  \"Julia\"  \"Julia\"  \"Julia\"  \"Julia\"\n",
       " \"Julia\"  \"Julia\"  \"Julia\"  \"Julia\"      \"Julia\"  \"Julia\"  \"Julia\"  \"Julia\"\n",
       " \"Julia\"  \"Julia\"  \"Julia\"  \"Julia\"      \"Julia\"  \"Julia\"  \"Julia\"  \"Julia\"\n",
       " \"Julia\"  \"Julia\"  \"Julia\"  \" [FUN]\"     \"Julia\"  \"Julia\"  \"Julia\"  \"Julia\"\n",
       " \"Julia\"  \"Julia\"  \"Julia\"  \" [FUN]\"     \"Julia\"  \"Julia\"  \"Julia\"  \"Julia\"\n",
       " \"Julia\"  \"Julia\"  \"Julia\"  \" [FUN]\"  …  \"Julia\"  \"Julia\"  \"Julia\"  \"Julia\"\n",
       " \"Julia\"  \"Julia\"  \"Julia\"  \"Julia\"      \"Julia\"  \"Julia\"  \"Julia\"  \"Julia\"\n",
       " \"Julia\"  \"Julia\"  \"Julia\"  \"Julia\"      \"Julia\"  \"Julia\"  \"Julia\"  \"Julia\"\n",
       " \"Julia\"  \"Julia\"  \"Julia\"  \"Julia\"      \"Julia\"  \"Julia\"  \"Julia\"  \"Julia\"\n",
       " \"Julia\"  \"Julia\"  \"Julia\"  \"Julia\"      \"Julia\"  \"Julia\"  \"Julia\"  \"Julia\""
      ]
     },
     "execution_count": 38,
     "metadata": {
      "comm_id": "e6cfb43b-f2f1-4af0-b50a-72e17f9876a1",
      "reactive": true
     },
     "output_type": "execute_result"
    }
   ],
   "source": [
    "A = fill(\"Julia\",10,10)\n",
    "n = size(A,1)\n",
    "@manipulate for i in 1:n-2, j in 1:n-2\n",
    "    insert_block(A, i,j, \" [FUN]\")\n",
    "end"
   ]
  },
  {
   "cell_type": "code",
   "execution_count": 39,
   "metadata": {
    "collapsed": false
   },
   "outputs": [
    {
     "data": {
      "text/html": [],
      "text/plain": [
       "Interact.Options{:SelectionSlider,Int64}(Signal{Int64}(4, nactions=1),\"i\",4,\"4\",Interact.OptionDict(DataStructures.OrderedDict(\"1\"=>1,\"2\"=>2,\"3\"=>3,\"4\"=>4,\"5\"=>5,\"6\"=>6,\"7\"=>7,\"8\"=>8),Dict(7=>\"7\",4=>\"4\",2=>\"2\",3=>\"3\",5=>\"5\",8=>\"8\",6=>\"6\",1=>\"1\")),Any[],Any[],true,\"horizontal\")"
      ]
     },
     "metadata": {},
     "output_type": "display_data"
    },
    {
     "data": {
      "text/html": [],
      "text/plain": [
       "Interact.Options{:SelectionSlider,Int64}(Signal{Int64}(4, nactions=1),\"j\",4,\"4\",Interact.OptionDict(DataStructures.OrderedDict(\"1\"=>1,\"2\"=>2,\"3\"=>3,\"4\"=>4,\"5\"=>5,\"6\"=>6,\"7\"=>7,\"8\"=>8),Dict(7=>\"7\",4=>\"4\",2=>\"2\",3=>\"3\",5=>\"5\",8=>\"8\",6=>\"6\",1=>\"1\")),Any[],Any[],true,\"horizontal\")"
      ]
     },
     "metadata": {},
     "output_type": "display_data"
    },
    {
     "data": {
      "text/html": [
       "<div style='display:flex;flex-direction:row'><div style='width:40px; text-align:center'>Julia</div> <div style='width:40px; text-align:center'>Julia</div> <div style='width:40px; text-align:center'>Julia</div> <div style='width:40px; text-align:center'>Julia</div> <div style='width:40px; text-align:center'>Julia</div> <div style='width:40px; text-align:center'>Julia</div> <div style='width:40px; text-align:center'>Julia</div> <div style='width:40px; text-align:center'>Julia</div> <div style='width:40px; text-align:center'>Julia</div> <div style='width:40px; text-align:center'>Julia</div></div><div style='display:flex;flex-direction:row'><div style='width:40px; text-align:center'>Julia</div> <div style='width:40px; text-align:center'>Julia</div> <div style='width:40px; text-align:center'>Julia</div> <div style='width:40px; text-align:center'>Julia</div> <div style='width:40px; text-align:center'>Julia</div> <div style='width:40px; text-align:center'>Julia</div> <div style='width:40px; text-align:center'>Julia</div> <div style='width:40px; text-align:center'>Julia</div> <div style='width:40px; text-align:center'>Julia</div> <div style='width:40px; text-align:center'>Julia</div></div><div style='display:flex;flex-direction:row'><div style='width:40px; text-align:center'>Julia</div> <div style='width:40px; text-align:center'>Julia</div> <div style='width:40px; text-align:center'>Julia</div> <div style='width:40px; text-align:center'>Julia</div> <div style='width:40px; text-align:center'>Julia</div> <div style='width:40px; text-align:center'>Julia</div> <div style='width:40px; text-align:center'>Julia</div> <div style='width:40px; text-align:center'>Julia</div> <div style='width:40px; text-align:center'>Julia</div> <div style='width:40px; text-align:center'>Julia</div></div><div style='display:flex;flex-direction:row'><div style='width:40px; text-align:center'>Julia</div> <div style='width:40px; text-align:center'>Julia</div> <div style='width:40px; text-align:center'>Julia</div> <div style='width:40px; text-align:center'>π</div> <div style='width:40px; text-align:center'>π</div> <div style='width:40px; text-align:center'>π</div> <div style='width:40px; text-align:center'>Julia</div> <div style='width:40px; text-align:center'>Julia</div> <div style='width:40px; text-align:center'>Julia</div> <div style='width:40px; text-align:center'>Julia</div></div><div style='display:flex;flex-direction:row'><div style='width:40px; text-align:center'>Julia</div> <div style='width:40px; text-align:center'>Julia</div> <div style='width:40px; text-align:center'>Julia</div> <div style='width:40px; text-align:center'>π</div> <div style='width:40px; text-align:center'>π</div> <div style='width:40px; text-align:center'>π</div> <div style='width:40px; text-align:center'>Julia</div> <div style='width:40px; text-align:center'>Julia</div> <div style='width:40px; text-align:center'>Julia</div> <div style='width:40px; text-align:center'>Julia</div></div><div style='display:flex;flex-direction:row'><div style='width:40px; text-align:center'>Julia</div> <div style='width:40px; text-align:center'>Julia</div> <div style='width:40px; text-align:center'>Julia</div> <div style='width:40px; text-align:center'>π</div> <div style='width:40px; text-align:center'>π</div> <div style='width:40px; text-align:center'>π</div> <div style='width:40px; text-align:center'>Julia</div> <div style='width:40px; text-align:center'>Julia</div> <div style='width:40px; text-align:center'>Julia</div> <div style='width:40px; text-align:center'>Julia</div></div><div style='display:flex;flex-direction:row'><div style='width:40px; text-align:center'>Julia</div> <div style='width:40px; text-align:center'>Julia</div> <div style='width:40px; text-align:center'>Julia</div> <div style='width:40px; text-align:center'>Julia</div> <div style='width:40px; text-align:center'>Julia</div> <div style='width:40px; text-align:center'>Julia</div> <div style='width:40px; text-align:center'>Julia</div> <div style='width:40px; text-align:center'>Julia</div> <div style='width:40px; text-align:center'>Julia</div> <div style='width:40px; text-align:center'>Julia</div></div><div style='display:flex;flex-direction:row'><div style='width:40px; text-align:center'>Julia</div> <div style='width:40px; text-align:center'>Julia</div> <div style='width:40px; text-align:center'>Julia</div> <div style='width:40px; text-align:center'>Julia</div> <div style='width:40px; text-align:center'>Julia</div> <div style='width:40px; text-align:center'>Julia</div> <div style='width:40px; text-align:center'>Julia</div> <div style='width:40px; text-align:center'>Julia</div> <div style='width:40px; text-align:center'>Julia</div> <div style='width:40px; text-align:center'>Julia</div></div><div style='display:flex;flex-direction:row'><div style='width:40px; text-align:center'>Julia</div> <div style='width:40px; text-align:center'>Julia</div> <div style='width:40px; text-align:center'>Julia</div> <div style='width:40px; text-align:center'>Julia</div> <div style='width:40px; text-align:center'>Julia</div> <div style='width:40px; text-align:center'>Julia</div> <div style='width:40px; text-align:center'>Julia</div> <div style='width:40px; text-align:center'>Julia</div> <div style='width:40px; text-align:center'>Julia</div> <div style='width:40px; text-align:center'>Julia</div></div><div style='display:flex;flex-direction:row'><div style='width:40px; text-align:center'>Julia</div> <div style='width:40px; text-align:center'>Julia</div> <div style='width:40px; text-align:center'>Julia</div> <div style='width:40px; text-align:center'>Julia</div> <div style='width:40px; text-align:center'>Julia</div> <div style='width:40px; text-align:center'>Julia</div> <div style='width:40px; text-align:center'>Julia</div> <div style='width:40px; text-align:center'>Julia</div> <div style='width:40px; text-align:center'>Julia</div> <div style='width:40px; text-align:center'>Julia</div></div>"
      ],
      "text/plain": [
       "10×10 Array{String,2}:\n",
       " \"Julia\"  \"Julia\"  \"Julia\"  \"Julia\"  …  \"Julia\"  \"Julia\"  \"Julia\"  \"Julia\"\n",
       " \"Julia\"  \"Julia\"  \"Julia\"  \"Julia\"     \"Julia\"  \"Julia\"  \"Julia\"  \"Julia\"\n",
       " \"Julia\"  \"Julia\"  \"Julia\"  \"Julia\"     \"Julia\"  \"Julia\"  \"Julia\"  \"Julia\"\n",
       " \"Julia\"  \"Julia\"  \"Julia\"  \"π\"         \"Julia\"  \"Julia\"  \"Julia\"  \"Julia\"\n",
       " \"Julia\"  \"Julia\"  \"Julia\"  \"π\"         \"Julia\"  \"Julia\"  \"Julia\"  \"Julia\"\n",
       " \"Julia\"  \"Julia\"  \"Julia\"  \"π\"      …  \"Julia\"  \"Julia\"  \"Julia\"  \"Julia\"\n",
       " \"Julia\"  \"Julia\"  \"Julia\"  \"Julia\"     \"Julia\"  \"Julia\"  \"Julia\"  \"Julia\"\n",
       " \"Julia\"  \"Julia\"  \"Julia\"  \"Julia\"     \"Julia\"  \"Julia\"  \"Julia\"  \"Julia\"\n",
       " \"Julia\"  \"Julia\"  \"Julia\"  \"Julia\"     \"Julia\"  \"Julia\"  \"Julia\"  \"Julia\"\n",
       " \"Julia\"  \"Julia\"  \"Julia\"  \"Julia\"     \"Julia\"  \"Julia\"  \"Julia\"  \"Julia\""
      ]
     },
     "execution_count": 39,
     "metadata": {
      "comm_id": "95bc4e95-513e-4263-8983-448b340b2544",
      "reactive": true
     },
     "output_type": "execute_result"
    }
   ],
   "source": [
    "@manipulate for i in 1:n-2, j in 1:n-2\n",
    "    insert_block(A, i,j, \"π\")\n",
    "end"
   ]
  },
  {
   "cell_type": "code",
   "execution_count": 40,
   "metadata": {
    "collapsed": false
   },
   "outputs": [
    {
     "data": {
      "text/html": [],
      "text/plain": [
       "Interact.Options{:SelectionSlider,Int64}(Signal{Int64}(4, nactions=1),\"i\",4,\"4\",Interact.OptionDict(DataStructures.OrderedDict(\"1\"=>1,\"2\"=>2,\"3\"=>3,\"4\"=>4,\"5\"=>5,\"6\"=>6,\"7\"=>7,\"8\"=>8),Dict(7=>\"7\",4=>\"4\",2=>\"2\",3=>\"3\",5=>\"5\",8=>\"8\",6=>\"6\",1=>\"1\")),Any[],Any[],true,\"horizontal\")"
      ]
     },
     "metadata": {},
     "output_type": "display_data"
    },
    {
     "data": {
      "text/html": [],
      "text/plain": [
       "Interact.Options{:SelectionSlider,Int64}(Signal{Int64}(4, nactions=1),\"j\",4,\"4\",Interact.OptionDict(DataStructures.OrderedDict(\"1\"=>1,\"2\"=>2,\"3\"=>3,\"4\"=>4,\"5\"=>5,\"6\"=>6,\"7\"=>7,\"8\"=>8),Dict(7=>\"7\",4=>\"4\",2=>\"2\",3=>\"3\",5=>\"5\",8=>\"8\",6=>\"6\",1=>\"1\")),Any[],Any[],true,\"horizontal\")"
      ]
     },
     "metadata": {},
     "output_type": "display_data"
    },
    {
     "data": {
      "text/html": [
       "<div style='display:flex;flex-direction:row'><div style='width:40px; text-align:center'>Julia</div> <div style='width:40px; text-align:center'>Julia</div> <div style='width:40px; text-align:center'>Julia</div> <div style='width:40px; text-align:center'>Julia</div> <div style='width:40px; text-align:center'>Julia</div> <div style='width:40px; text-align:center'>Julia</div> <div style='width:40px; text-align:center'>Julia</div> <div style='width:40px; text-align:center'>Julia</div> <div style='width:40px; text-align:center'>Julia</div> <div style='width:40px; text-align:center'>Julia</div></div><div style='display:flex;flex-direction:row'><div style='width:40px; text-align:center'>Julia</div> <div style='width:40px; text-align:center'>Julia</div> <div style='width:40px; text-align:center'>Julia</div> <div style='width:40px; text-align:center'>Julia</div> <div style='width:40px; text-align:center'>Julia</div> <div style='width:40px; text-align:center'>Julia</div> <div style='width:40px; text-align:center'>Julia</div> <div style='width:40px; text-align:center'>Julia</div> <div style='width:40px; text-align:center'>Julia</div> <div style='width:40px; text-align:center'>Julia</div></div><div style='display:flex;flex-direction:row'><div style='width:40px; text-align:center'>Julia</div> <div style='width:40px; text-align:center'>Julia</div> <div style='width:40px; text-align:center'>Julia</div> <div style='width:40px; text-align:center'>Julia</div> <div style='width:40px; text-align:center'>Julia</div> <div style='width:40px; text-align:center'>Julia</div> <div style='width:40px; text-align:center'>Julia</div> <div style='width:40px; text-align:center'>Julia</div> <div style='width:40px; text-align:center'>Julia</div> <div style='width:40px; text-align:center'>Julia</div></div><div style='display:flex;flex-direction:row'><div style='width:40px; text-align:center'>Julia</div> <div style='width:40px; text-align:center'>Julia</div> <div style='width:40px; text-align:center'>Julia</div> <div style='width:40px; text-align:center'>♡</div> <div style='width:40px; text-align:center'>♡</div> <div style='width:40px; text-align:center'>♡</div> <div style='width:40px; text-align:center'>Julia</div> <div style='width:40px; text-align:center'>Julia</div> <div style='width:40px; text-align:center'>Julia</div> <div style='width:40px; text-align:center'>Julia</div></div><div style='display:flex;flex-direction:row'><div style='width:40px; text-align:center'>Julia</div> <div style='width:40px; text-align:center'>Julia</div> <div style='width:40px; text-align:center'>Julia</div> <div style='width:40px; text-align:center'>♡</div> <div style='width:40px; text-align:center'>♡</div> <div style='width:40px; text-align:center'>♡</div> <div style='width:40px; text-align:center'>Julia</div> <div style='width:40px; text-align:center'>Julia</div> <div style='width:40px; text-align:center'>Julia</div> <div style='width:40px; text-align:center'>Julia</div></div><div style='display:flex;flex-direction:row'><div style='width:40px; text-align:center'>Julia</div> <div style='width:40px; text-align:center'>Julia</div> <div style='width:40px; text-align:center'>Julia</div> <div style='width:40px; text-align:center'>♡</div> <div style='width:40px; text-align:center'>♡</div> <div style='width:40px; text-align:center'>♡</div> <div style='width:40px; text-align:center'>Julia</div> <div style='width:40px; text-align:center'>Julia</div> <div style='width:40px; text-align:center'>Julia</div> <div style='width:40px; text-align:center'>Julia</div></div><div style='display:flex;flex-direction:row'><div style='width:40px; text-align:center'>Julia</div> <div style='width:40px; text-align:center'>Julia</div> <div style='width:40px; text-align:center'>Julia</div> <div style='width:40px; text-align:center'>Julia</div> <div style='width:40px; text-align:center'>Julia</div> <div style='width:40px; text-align:center'>Julia</div> <div style='width:40px; text-align:center'>Julia</div> <div style='width:40px; text-align:center'>Julia</div> <div style='width:40px; text-align:center'>Julia</div> <div style='width:40px; text-align:center'>Julia</div></div><div style='display:flex;flex-direction:row'><div style='width:40px; text-align:center'>Julia</div> <div style='width:40px; text-align:center'>Julia</div> <div style='width:40px; text-align:center'>Julia</div> <div style='width:40px; text-align:center'>Julia</div> <div style='width:40px; text-align:center'>Julia</div> <div style='width:40px; text-align:center'>Julia</div> <div style='width:40px; text-align:center'>Julia</div> <div style='width:40px; text-align:center'>Julia</div> <div style='width:40px; text-align:center'>Julia</div> <div style='width:40px; text-align:center'>Julia</div></div><div style='display:flex;flex-direction:row'><div style='width:40px; text-align:center'>Julia</div> <div style='width:40px; text-align:center'>Julia</div> <div style='width:40px; text-align:center'>Julia</div> <div style='width:40px; text-align:center'>Julia</div> <div style='width:40px; text-align:center'>Julia</div> <div style='width:40px; text-align:center'>Julia</div> <div style='width:40px; text-align:center'>Julia</div> <div style='width:40px; text-align:center'>Julia</div> <div style='width:40px; text-align:center'>Julia</div> <div style='width:40px; text-align:center'>Julia</div></div><div style='display:flex;flex-direction:row'><div style='width:40px; text-align:center'>Julia</div> <div style='width:40px; text-align:center'>Julia</div> <div style='width:40px; text-align:center'>Julia</div> <div style='width:40px; text-align:center'>Julia</div> <div style='width:40px; text-align:center'>Julia</div> <div style='width:40px; text-align:center'>Julia</div> <div style='width:40px; text-align:center'>Julia</div> <div style='width:40px; text-align:center'>Julia</div> <div style='width:40px; text-align:center'>Julia</div> <div style='width:40px; text-align:center'>Julia</div></div>"
      ],
      "text/plain": [
       "10×10 Array{String,2}:\n",
       " \"Julia\"  \"Julia\"  \"Julia\"  \"Julia\"  …  \"Julia\"  \"Julia\"  \"Julia\"  \"Julia\"\n",
       " \"Julia\"  \"Julia\"  \"Julia\"  \"Julia\"     \"Julia\"  \"Julia\"  \"Julia\"  \"Julia\"\n",
       " \"Julia\"  \"Julia\"  \"Julia\"  \"Julia\"     \"Julia\"  \"Julia\"  \"Julia\"  \"Julia\"\n",
       " \"Julia\"  \"Julia\"  \"Julia\"  \"♡\"         \"Julia\"  \"Julia\"  \"Julia\"  \"Julia\"\n",
       " \"Julia\"  \"Julia\"  \"Julia\"  \"♡\"         \"Julia\"  \"Julia\"  \"Julia\"  \"Julia\"\n",
       " \"Julia\"  \"Julia\"  \"Julia\"  \"♡\"      …  \"Julia\"  \"Julia\"  \"Julia\"  \"Julia\"\n",
       " \"Julia\"  \"Julia\"  \"Julia\"  \"Julia\"     \"Julia\"  \"Julia\"  \"Julia\"  \"Julia\"\n",
       " \"Julia\"  \"Julia\"  \"Julia\"  \"Julia\"     \"Julia\"  \"Julia\"  \"Julia\"  \"Julia\"\n",
       " \"Julia\"  \"Julia\"  \"Julia\"  \"Julia\"     \"Julia\"  \"Julia\"  \"Julia\"  \"Julia\"\n",
       " \"Julia\"  \"Julia\"  \"Julia\"  \"Julia\"     \"Julia\"  \"Julia\"  \"Julia\"  \"Julia\""
      ]
     },
     "execution_count": 40,
     "metadata": {
      "comm_id": "c8854801-59d2-4c65-b816-d5ee5f9c1690",
      "reactive": true
     },
     "output_type": "execute_result"
    }
   ],
   "source": [
    "@manipulate for i in 1:n-2, j in 1:n-2\n",
    "    insert_block(A, i,j, \"♡\")\n",
    "end"
   ]
  },
  {
   "cell_type": "code",
   "execution_count": 41,
   "metadata": {
    "collapsed": false
   },
   "outputs": [
    {
     "data": {
      "text/html": [
       "<div style='display:flex;flex-direction:row'><div style='width:40px; text-align:center'>👽</div> <div style='width:40px; text-align:center'>👽</div> <div style='width:40px; text-align:center'>✈</div> <div style='width:40px; text-align:center'>✈</div> <div style='width:40px; text-align:center'>✈</div></div><div style='display:flex;flex-direction:row'><div style='width:40px; text-align:center'>👽</div> <div style='width:40px; text-align:center'>👽</div> <div style='width:40px; text-align:center'>✈</div> <div style='width:40px; text-align:center'>✈</div> <div style='width:40px; text-align:center'>✈</div></div><div style='display:flex;flex-direction:row'><div style='width:40px; text-align:center'>👽</div> <div style='width:40px; text-align:center'>✈</div> <div style='width:40px; text-align:center'>👽</div> <div style='width:40px; text-align:center'>👽</div> <div style='width:40px; text-align:center'>✈</div></div><div style='display:flex;flex-direction:row'><div style='width:40px; text-align:center'>👽</div> <div style='width:40px; text-align:center'>✈</div> <div style='width:40px; text-align:center'>✈</div> <div style='width:40px; text-align:center'>✈</div> <div style='width:40px; text-align:center'>✈</div></div><div style='display:flex;flex-direction:row'><div style='width:40px; text-align:center'>👽</div> <div style='width:40px; text-align:center'>👽</div> <div style='width:40px; text-align:center'>👽</div> <div style='width:40px; text-align:center'>✈</div> <div style='width:40px; text-align:center'>✈</div></div>"
      ],
      "text/plain": [
       "5×5 Array{String,2}:\n",
       " \"👽\"  \"👽\"  \"✈\"  \"✈\"  \"✈\"\n",
       " \"👽\"  \"👽\"  \"✈\"  \"✈\"  \"✈\"\n",
       " \"👽\"  \"✈\"  \"👽\"  \"👽\"  \"✈\"\n",
       " \"👽\"  \"✈\"  \"✈\"  \"✈\"  \"✈\"\n",
       " \"👽\"  \"👽\"  \"👽\"  \"✈\"  \"✈\""
      ]
     },
     "execution_count": 41,
     "metadata": {},
     "output_type": "execute_result"
    }
   ],
   "source": [
    "airplane = \"✈\"\n",
    "alien = \"👽\"\n",
    "rand( [airplane,alien],5,5)"
   ]
  },
  {
   "cell_type": "code",
   "execution_count": 42,
   "metadata": {
    "collapsed": false
   },
   "outputs": [
    {
     "data": {
      "text/html": [],
      "text/plain": [
       "Interact.Options{:SelectionSlider,Int64}(Signal{Int64}(4, nactions=1),\"i\",4,\"4\",Interact.OptionDict(DataStructures.OrderedDict(\"1\"=>1,\"2\"=>2,\"3\"=>3,\"4\"=>4,\"5\"=>5,\"6\"=>6,\"7\"=>7),Dict(7=>\"7\",4=>\"4\",2=>\"2\",3=>\"3\",5=>\"5\",6=>\"6\",1=>\"1\")),Any[],Any[],true,\"horizontal\")"
      ]
     },
     "metadata": {},
     "output_type": "display_data"
    },
    {
     "data": {
      "text/html": [],
      "text/plain": [
       "Interact.Options{:SelectionSlider,Int64}(Signal{Int64}(4, nactions=1),\"j\",4,\"4\",Interact.OptionDict(DataStructures.OrderedDict(\"1\"=>1,\"2\"=>2,\"3\"=>3,\"4\"=>4,\"5\"=>5,\"6\"=>6,\"7\"=>7),Dict(7=>\"7\",4=>\"4\",2=>\"2\",3=>\"3\",5=>\"5\",6=>\"6\",1=>\"1\")),Any[],Any[],true,\"horizontal\")"
      ]
     },
     "metadata": {},
     "output_type": "display_data"
    },
    {
     "data": {
      "text/html": [
       "<div style='display:flex;flex-direction:row'><div style='width:40px; text-align:center'>✈</div> <div style='width:40px; text-align:center'>✈</div> <div style='width:40px; text-align:center'>✈</div> <div style='width:40px; text-align:center'>✈</div> <div style='width:40px; text-align:center'>✈</div> <div style='width:40px; text-align:center'>✈</div> <div style='width:40px; text-align:center'>✈</div> <div style='width:40px; text-align:center'>✈</div> <div style='width:40px; text-align:center'>✈</div></div><div style='display:flex;flex-direction:row'><div style='width:40px; text-align:center'>✈</div> <div style='width:40px; text-align:center'>✈</div> <div style='width:40px; text-align:center'>✈</div> <div style='width:40px; text-align:center'>✈</div> <div style='width:40px; text-align:center'>✈</div> <div style='width:40px; text-align:center'>✈</div> <div style='width:40px; text-align:center'>✈</div> <div style='width:40px; text-align:center'>✈</div> <div style='width:40px; text-align:center'>✈</div></div><div style='display:flex;flex-direction:row'><div style='width:40px; text-align:center'>✈</div> <div style='width:40px; text-align:center'>✈</div> <div style='width:40px; text-align:center'>✈</div> <div style='width:40px; text-align:center'>✈</div> <div style='width:40px; text-align:center'>✈</div> <div style='width:40px; text-align:center'>✈</div> <div style='width:40px; text-align:center'>✈</div> <div style='width:40px; text-align:center'>✈</div> <div style='width:40px; text-align:center'>✈</div></div><div style='display:flex;flex-direction:row'><div style='width:40px; text-align:center'>✈</div> <div style='width:40px; text-align:center'>✈</div> <div style='width:40px; text-align:center'>✈</div> <div style='width:40px; text-align:center'>👽</div> <div style='width:40px; text-align:center'>👽</div> <div style='width:40px; text-align:center'>👽</div> <div style='width:40px; text-align:center'>✈</div> <div style='width:40px; text-align:center'>✈</div> <div style='width:40px; text-align:center'>✈</div></div><div style='display:flex;flex-direction:row'><div style='width:40px; text-align:center'>✈</div> <div style='width:40px; text-align:center'>✈</div> <div style='width:40px; text-align:center'>✈</div> <div style='width:40px; text-align:center'>👽</div> <div style='width:40px; text-align:center'>👽</div> <div style='width:40px; text-align:center'>👽</div> <div style='width:40px; text-align:center'>✈</div> <div style='width:40px; text-align:center'>✈</div> <div style='width:40px; text-align:center'>✈</div></div><div style='display:flex;flex-direction:row'><div style='width:40px; text-align:center'>✈</div> <div style='width:40px; text-align:center'>✈</div> <div style='width:40px; text-align:center'>✈</div> <div style='width:40px; text-align:center'>👽</div> <div style='width:40px; text-align:center'>👽</div> <div style='width:40px; text-align:center'>👽</div> <div style='width:40px; text-align:center'>✈</div> <div style='width:40px; text-align:center'>✈</div> <div style='width:40px; text-align:center'>✈</div></div><div style='display:flex;flex-direction:row'><div style='width:40px; text-align:center'>✈</div> <div style='width:40px; text-align:center'>✈</div> <div style='width:40px; text-align:center'>✈</div> <div style='width:40px; text-align:center'>✈</div> <div style='width:40px; text-align:center'>✈</div> <div style='width:40px; text-align:center'>✈</div> <div style='width:40px; text-align:center'>✈</div> <div style='width:40px; text-align:center'>✈</div> <div style='width:40px; text-align:center'>✈</div></div><div style='display:flex;flex-direction:row'><div style='width:40px; text-align:center'>✈</div> <div style='width:40px; text-align:center'>✈</div> <div style='width:40px; text-align:center'>✈</div> <div style='width:40px; text-align:center'>✈</div> <div style='width:40px; text-align:center'>✈</div> <div style='width:40px; text-align:center'>✈</div> <div style='width:40px; text-align:center'>✈</div> <div style='width:40px; text-align:center'>✈</div> <div style='width:40px; text-align:center'>✈</div></div><div style='display:flex;flex-direction:row'><div style='width:40px; text-align:center'>✈</div> <div style='width:40px; text-align:center'>✈</div> <div style='width:40px; text-align:center'>✈</div> <div style='width:40px; text-align:center'>✈</div> <div style='width:40px; text-align:center'>✈</div> <div style='width:40px; text-align:center'>✈</div> <div style='width:40px; text-align:center'>✈</div> <div style='width:40px; text-align:center'>✈</div> <div style='width:40px; text-align:center'>✈</div></div>"
      ],
      "text/plain": [
       "9×9 Array{String,2}:\n",
       " \"✈\"  \"✈\"  \"✈\"  \"✈\"  \"✈\"  \"✈\"  \"✈\"  \"✈\"  \"✈\"\n",
       " \"✈\"  \"✈\"  \"✈\"  \"✈\"  \"✈\"  \"✈\"  \"✈\"  \"✈\"  \"✈\"\n",
       " \"✈\"  \"✈\"  \"✈\"  \"✈\"  \"✈\"  \"✈\"  \"✈\"  \"✈\"  \"✈\"\n",
       " \"✈\"  \"✈\"  \"✈\"  \"👽\"  \"👽\"  \"👽\"  \"✈\"  \"✈\"  \"✈\"\n",
       " \"✈\"  \"✈\"  \"✈\"  \"👽\"  \"👽\"  \"👽\"  \"✈\"  \"✈\"  \"✈\"\n",
       " \"✈\"  \"✈\"  \"✈\"  \"👽\"  \"👽\"  \"👽\"  \"✈\"  \"✈\"  \"✈\"\n",
       " \"✈\"  \"✈\"  \"✈\"  \"✈\"  \"✈\"  \"✈\"  \"✈\"  \"✈\"  \"✈\"\n",
       " \"✈\"  \"✈\"  \"✈\"  \"✈\"  \"✈\"  \"✈\"  \"✈\"  \"✈\"  \"✈\"\n",
       " \"✈\"  \"✈\"  \"✈\"  \"✈\"  \"✈\"  \"✈\"  \"✈\"  \"✈\"  \"✈\""
      ]
     },
     "execution_count": 42,
     "metadata": {
      "comm_id": "cd4ada19-879c-456b-a368-9bb178b5e065",
      "reactive": true
     },
     "output_type": "execute_result"
    }
   ],
   "source": [
    "A = fill(airplane,9,9)\n",
    "n=size(A,1)\n",
    "@manipulate for i in 1:n-2, j in 1:n-2\n",
    "    insert_block(A, i,j, alien)\n",
    "end"
   ]
  },
  {
   "cell_type": "markdown",
   "metadata": {},
   "source": [
    "# Colors"
   ]
  },
  {
   "cell_type": "code",
   "execution_count": 43,
   "metadata": {
    "collapsed": true
   },
   "outputs": [],
   "source": [
    "using Images, Colors"
   ]
  },
  {
   "cell_type": "code",
   "execution_count": 44,
   "metadata": {
    "collapsed": false
   },
   "outputs": [
    {
     "data": {
      "image/svg+xml": [
       "<?xml version=\"1.0\" encoding=\"UTF-8\"?>\n",
       "<!DOCTYPE svg PUBLIC \"-//W3C//DTD SVG 1.1//EN\"\n",
       " \"http://www.w3.org/Graphics/SVG/1.1/DTD/svg11.dtd\">\n",
       "<svg xmlns=\"http://www.w3.org/2000/svg\" version=\"1.1\"\n",
       "     width=\"180.0mm\" height=\"25.0mm\"\n",
       "     shape-rendering=\"crispEdges\">\n",
       "<rect x=\"0.0mm\" y=\"0.0mm\"\n",
       "      width=\"14.0mm\" height=\"25.0mm\"\n",
       "      fill=\"#000000\" stroke=\"none\" />\n",
       "<rect x=\"15.0mm\" y=\"0.0mm\"\n",
       "      width=\"14.0mm\" height=\"25.0mm\"\n",
       "      fill=\"#FFFF62\" stroke=\"none\" />\n",
       "<rect x=\"30.0mm\" y=\"0.0mm\"\n",
       "      width=\"14.0mm\" height=\"25.0mm\"\n",
       "      fill=\"#FF9FFF\" stroke=\"none\" />\n",
       "<rect x=\"45.0mm\" y=\"0.0mm\"\n",
       "      width=\"14.0mm\" height=\"25.0mm\"\n",
       "      fill=\"#00D6FF\" stroke=\"none\" />\n",
       "<rect x=\"60.0mm\" y=\"0.0mm\"\n",
       "      width=\"14.0mm\" height=\"25.0mm\"\n",
       "      fill=\"#D74400\" stroke=\"none\" />\n",
       "<rect x=\"75.0mm\" y=\"0.0mm\"\n",
       "      width=\"14.0mm\" height=\"25.0mm\"\n",
       "      fill=\"#008029\" stroke=\"none\" />\n",
       "<rect x=\"90.0mm\" y=\"0.0mm\"\n",
       "      width=\"14.0mm\" height=\"25.0mm\"\n",
       "      fill=\"#005FD5\" stroke=\"none\" />\n",
       "<rect x=\"105.0mm\" y=\"0.0mm\"\n",
       "      width=\"14.0mm\" height=\"25.0mm\"\n",
       "      fill=\"#930068\" stroke=\"none\" />\n",
       "<rect x=\"120.0mm\" y=\"0.0mm\"\n",
       "      width=\"14.0mm\" height=\"25.0mm\"\n",
       "      fill=\"#FFCBB5\" stroke=\"none\" />\n",
       "<rect x=\"135.0mm\" y=\"0.0mm\"\n",
       "      width=\"14.0mm\" height=\"25.0mm\"\n",
       "      fill=\"#A78600\" stroke=\"none\" />\n",
       "<rect x=\"150.0mm\" y=\"0.0mm\"\n",
       "      width=\"14.0mm\" height=\"25.0mm\"\n",
       "      fill=\"#00FFC5\" stroke=\"none\" />\n",
       "<rect x=\"165.0mm\" y=\"0.0mm\"\n",
       "      width=\"14.0mm\" height=\"25.0mm\"\n",
       "      fill=\"#007E86\" stroke=\"none\" />\n",
       "</svg>"
      ],
      "text/plain": [
       "12-element Array{ColorTypes.RGB{FixedPointNumbers.UFixed{UInt8,8}},1}:\n",
       " RGB{U8}(0.0,0.0,0.0)    \n",
       " RGB{U8}(1.0,1.0,0.384)  \n",
       " RGB{U8}(1.0,0.624,1.0)  \n",
       " RGB{U8}(0.0,0.839,1.0)  \n",
       " RGB{U8}(0.843,0.267,0.0)\n",
       " RGB{U8}(0.0,0.502,0.161)\n",
       " RGB{U8}(0.0,0.373,0.835)\n",
       " RGB{U8}(0.576,0.0,0.408)\n",
       " RGB{U8}(1.0,0.796,0.71) \n",
       " RGB{U8}(0.655,0.525,0.0)\n",
       " RGB{U8}(0.0,1.0,0.773)  \n",
       " RGB{U8}(0.0,0.494,0.525)"
      ]
     },
     "execution_count": 44,
     "metadata": {},
     "output_type": "execute_result"
    }
   ],
   "source": [
    "distinguishable_colors(12)"
   ]
  },
  {
   "cell_type": "code",
   "execution_count": 45,
   "metadata": {
    "collapsed": false
   },
   "outputs": [
    {
     "data": {
      "text/html": [],
      "text/plain": [
       "Interact.Options{:SelectionSlider,Int64}(Signal{Int64}(40, nactions=1),\"n\",40,\"40\",Interact.OptionDict(DataStructures.OrderedDict(\"1\"=>1,\"2\"=>2,\"3\"=>3,\"4\"=>4,\"5\"=>5,\"6\"=>6,\"7\"=>7,\"8\"=>8,\"9\"=>9,\"10\"=>10…),Dict(68=>\"68\",2=>\"2\",11=>\"11\",39=>\"39\",46=>\"46\",25=>\"25\",55=>\"55\",42=>\"42\",29=>\"29\",58=>\"58\"…)),Any[],Any[],true,\"horizontal\")"
      ]
     },
     "metadata": {},
     "output_type": "display_data"
    },
    {
     "data": {
      "image/svg+xml": [
       "<?xml version=\"1.0\" encoding=\"UTF-8\"?>\n",
       "<!DOCTYPE svg PUBLIC \"-//W3C//DTD SVG 1.1//EN\"\n",
       " \"http://www.w3.org/Graphics/SVG/1.1/DTD/svg11.dtd\">\n",
       "<svg xmlns=\"http://www.w3.org/2000/svg\" version=\"1.1\"\n",
       "     width=\"200.0mm\" height=\"25.0mm\"\n",
       "     shape-rendering=\"crispEdges\">\n",
       "<rect x=\"0.0mm\" y=\"0.0mm\"\n",
       "      width=\"4.0mm\" height=\"25.0mm\"\n",
       "      fill=\"#000000\" stroke=\"none\" />\n",
       "<rect x=\"5.0mm\" y=\"0.0mm\"\n",
       "      width=\"4.0mm\" height=\"25.0mm\"\n",
       "      fill=\"#FFFF62\" stroke=\"none\" />\n",
       "<rect x=\"10.0mm\" y=\"0.0mm\"\n",
       "      width=\"4.0mm\" height=\"25.0mm\"\n",
       "      fill=\"#FF9FFF\" stroke=\"none\" />\n",
       "<rect x=\"15.0mm\" y=\"0.0mm\"\n",
       "      width=\"4.0mm\" height=\"25.0mm\"\n",
       "      fill=\"#00D6FF\" stroke=\"none\" />\n",
       "<rect x=\"20.0mm\" y=\"0.0mm\"\n",
       "      width=\"4.0mm\" height=\"25.0mm\"\n",
       "      fill=\"#D74400\" stroke=\"none\" />\n",
       "<rect x=\"25.0mm\" y=\"0.0mm\"\n",
       "      width=\"4.0mm\" height=\"25.0mm\"\n",
       "      fill=\"#008029\" stroke=\"none\" />\n",
       "<rect x=\"30.0mm\" y=\"0.0mm\"\n",
       "      width=\"4.0mm\" height=\"25.0mm\"\n",
       "      fill=\"#005FD5\" stroke=\"none\" />\n",
       "<rect x=\"35.0mm\" y=\"0.0mm\"\n",
       "      width=\"4.0mm\" height=\"25.0mm\"\n",
       "      fill=\"#930068\" stroke=\"none\" />\n",
       "<rect x=\"40.0mm\" y=\"0.0mm\"\n",
       "      width=\"4.0mm\" height=\"25.0mm\"\n",
       "      fill=\"#FFCBB5\" stroke=\"none\" />\n",
       "<rect x=\"45.0mm\" y=\"0.0mm\"\n",
       "      width=\"4.0mm\" height=\"25.0mm\"\n",
       "      fill=\"#A78600\" stroke=\"none\" />\n",
       "<rect x=\"50.0mm\" y=\"0.0mm\"\n",
       "      width=\"4.0mm\" height=\"25.0mm\"\n",
       "      fill=\"#00FFC5\" stroke=\"none\" />\n",
       "<rect x=\"55.0mm\" y=\"0.0mm\"\n",
       "      width=\"4.0mm\" height=\"25.0mm\"\n",
       "      fill=\"#007E86\" stroke=\"none\" />\n",
       "<rect x=\"60.0mm\" y=\"0.0mm\"\n",
       "      width=\"4.0mm\" height=\"25.0mm\"\n",
       "      fill=\"#534200\" stroke=\"none\" />\n",
       "<rect x=\"65.0mm\" y=\"0.0mm\"\n",
       "      width=\"4.0mm\" height=\"25.0mm\"\n",
       "      fill=\"#8C8793\" stroke=\"none\" />\n",
       "<rect x=\"70.0mm\" y=\"0.0mm\"\n",
       "      width=\"4.0mm\" height=\"25.0mm\"\n",
       "      fill=\"#680000\" stroke=\"none\" />\n",
       "<rect x=\"75.0mm\" y=\"0.0mm\"\n",
       "      width=\"4.0mm\" height=\"25.0mm\"\n",
       "      fill=\"#00005A\" stroke=\"none\" />\n",
       "<rect x=\"80.0mm\" y=\"0.0mm\"\n",
       "      width=\"4.0mm\" height=\"25.0mm\"\n",
       "      fill=\"#FF2C6F\" stroke=\"none\" />\n",
       "<rect x=\"85.0mm\" y=\"0.0mm\"\n",
       "      width=\"4.0mm\" height=\"25.0mm\"\n",
       "      fill=\"#F7FFF6\" stroke=\"none\" />\n",
       "<rect x=\"90.0mm\" y=\"0.0mm\"\n",
       "      width=\"4.0mm\" height=\"25.0mm\"\n",
       "      fill=\"#003D25\" stroke=\"none\" />\n",
       "<rect x=\"95.0mm\" y=\"0.0mm\"\n",
       "      width=\"4.0mm\" height=\"25.0mm\"\n",
       "      fill=\"#91ABFF\" stroke=\"none\" />\n",
       "<rect x=\"100.0mm\" y=\"0.0mm\"\n",
       "      width=\"4.0mm\" height=\"25.0mm\"\n",
       "      fill=\"#A1B684\" stroke=\"none\" />\n",
       "<rect x=\"105.0mm\" y=\"0.0mm\"\n",
       "      width=\"4.0mm\" height=\"25.0mm\"\n",
       "      fill=\"#605051\" stroke=\"none\" />\n",
       "<rect x=\"110.0mm\" y=\"0.0mm\"\n",
       "      width=\"4.0mm\" height=\"25.0mm\"\n",
       "      fill=\"#C129E2\" stroke=\"none\" />\n",
       "<rect x=\"115.0mm\" y=\"0.0mm\"\n",
       "      width=\"4.0mm\" height=\"25.0mm\"\n",
       "      fill=\"#FF8E1E\" stroke=\"none\" />\n",
       "<rect x=\"120.0mm\" y=\"0.0mm\"\n",
       "      width=\"4.0mm\" height=\"25.0mm\"\n",
       "      fill=\"#003F51\" stroke=\"none\" />\n",
       "<rect x=\"125.0mm\" y=\"0.0mm\"\n",
       "      width=\"4.0mm\" height=\"25.0mm\"\n",
       "      fill=\"#797860\" stroke=\"none\" />\n",
       "<rect x=\"130.0mm\" y=\"0.0mm\"\n",
       "      width=\"4.0mm\" height=\"25.0mm\"\n",
       "      fill=\"#2E001C\" stroke=\"none\" />\n",
       "<rect x=\"135.0mm\" y=\"0.0mm\"\n",
       "      width=\"4.0mm\" height=\"25.0mm\"\n",
       "      fill=\"#01AF99\" stroke=\"none\" />\n",
       "<rect x=\"140.0mm\" y=\"0.0mm\"\n",
       "      width=\"4.0mm\" height=\"25.0mm\"\n",
       "      fill=\"#FFE6FF\" stroke=\"none\" />\n",
       "<rect x=\"145.0mm\" y=\"0.0mm\"\n",
       "      width=\"4.0mm\" height=\"25.0mm\"\n",
       "      fill=\"#77DA00\" stroke=\"none\" />\n",
       "<rect x=\"150.0mm\" y=\"0.0mm\"\n",
       "      width=\"4.0mm\" height=\"25.0mm\"\n",
       "      fill=\"#5B4B83\" stroke=\"none\" />\n",
       "<rect x=\"155.0mm\" y=\"0.0mm\"\n",
       "      width=\"4.0mm\" height=\"25.0mm\"\n",
       "      fill=\"#0094CF\" stroke=\"none\" />\n",
       "<rect x=\"160.0mm\" y=\"0.0mm\"\n",
       "      width=\"4.0mm\" height=\"25.0mm\"\n",
       "      fill=\"#B8739F\" stroke=\"none\" />\n",
       "<rect x=\"165.0mm\" y=\"0.0mm\"\n",
       "      width=\"4.0mm\" height=\"25.0mm\"\n",
       "      fill=\"#FF8269\" stroke=\"none\" />\n",
       "<rect x=\"170.0mm\" y=\"0.0mm\"\n",
       "      width=\"4.0mm\" height=\"25.0mm\"\n",
       "      fill=\"#FFBE05\" stroke=\"none\" />\n",
       "<rect x=\"175.0mm\" y=\"0.0mm\"\n",
       "      width=\"4.0mm\" height=\"25.0mm\"\n",
       "      fill=\"#C20030\" stroke=\"none\" />\n",
       "<rect x=\"180.0mm\" y=\"0.0mm\"\n",
       "      width=\"4.0mm\" height=\"25.0mm\"\n",
       "      fill=\"#A9806C\" stroke=\"none\" />\n",
       "<rect x=\"185.0mm\" y=\"0.0mm\"\n",
       "      width=\"4.0mm\" height=\"25.0mm\"\n",
       "      fill=\"#955600\" stroke=\"none\" />\n",
       "<rect x=\"190.0mm\" y=\"0.0mm\"\n",
       "      width=\"4.0mm\" height=\"25.0mm\"\n",
       "      fill=\"#9FB3B2\" stroke=\"none\" />\n",
       "<rect x=\"195.0mm\" y=\"0.0mm\"\n",
       "      width=\"4.0mm\" height=\"25.0mm\"\n",
       "      fill=\"#789500\" stroke=\"none\" />\n",
       "</svg>"
      ],
      "text/plain": [
       "40-element Array{ColorTypes.RGB{FixedPointNumbers.UFixed{UInt8,8}},1}:\n",
       " RGB{U8}(0.0,0.0,0.0)      \n",
       " RGB{U8}(1.0,1.0,0.384)    \n",
       " RGB{U8}(1.0,0.624,1.0)    \n",
       " RGB{U8}(0.0,0.839,1.0)    \n",
       " RGB{U8}(0.843,0.267,0.0)  \n",
       " RGB{U8}(0.0,0.502,0.161)  \n",
       " RGB{U8}(0.0,0.373,0.835)  \n",
       " RGB{U8}(0.576,0.0,0.408)  \n",
       " RGB{U8}(1.0,0.796,0.71)   \n",
       " RGB{U8}(0.655,0.525,0.0)  \n",
       " RGB{U8}(0.0,1.0,0.773)    \n",
       " RGB{U8}(0.0,0.494,0.525)  \n",
       " RGB{U8}(0.325,0.259,0.0)  \n",
       " ⋮                         \n",
       " RGB{U8}(1.0,0.902,1.0)    \n",
       " RGB{U8}(0.467,0.855,0.0)  \n",
       " RGB{U8}(0.357,0.294,0.514)\n",
       " RGB{U8}(0.0,0.58,0.812)   \n",
       " RGB{U8}(0.722,0.451,0.624)\n",
       " RGB{U8}(1.0,0.51,0.412)   \n",
       " RGB{U8}(1.0,0.745,0.02)   \n",
       " RGB{U8}(0.761,0.0,0.188)  \n",
       " RGB{U8}(0.663,0.502,0.424)\n",
       " RGB{U8}(0.584,0.337,0.0)  \n",
       " RGB{U8}(0.624,0.702,0.698)\n",
       " RGB{U8}(0.471,0.584,0.0)  "
      ]
     },
     "execution_count": 45,
     "metadata": {
      "comm_id": "b15339cb-faa5-431a-aa56-743a0abf5c3c",
      "reactive": true
     },
     "output_type": "execute_result"
    }
   ],
   "source": [
    "@manipulate for n = 1:80\n",
    "    distinguishable_colors(n)\n",
    "end"
   ]
  },
  {
   "cell_type": "code",
   "execution_count": 46,
   "metadata": {
    "collapsed": false
   },
   "outputs": [
    {
     "data": {
      "image/svg+xml": [
       "<?xml version=\"1.0\" encoding=\"UTF-8\"?>\n",
       "<!DOCTYPE svg PUBLIC \"-//W3C//DTD SVG 1.1//EN\"\n",
       " \"http://www.w3.org/Graphics/SVG/1.1/DTD/svg11.dtd\">\n",
       "<svg xmlns=\"http://www.w3.org/2000/svg\" version=\"1.1\"\n",
       "     width=\"250.0mm\" height=\"25.0mm\"\n",
       "     shape-rendering=\"crispEdges\">\n",
       "<rect x=\"0.0mm\" y=\"0.0mm\"\n",
       "      width=\"2.5mm\" height=\"25.0mm\"\n",
       "      fill=\"#000000\" stroke=\"none\" />\n",
       "<rect x=\"2.5mm\" y=\"0.0mm\"\n",
       "      width=\"2.5mm\" height=\"25.0mm\"\n",
       "      fill=\"#FFFF62\" stroke=\"none\" />\n",
       "<rect x=\"5.0mm\" y=\"0.0mm\"\n",
       "      width=\"2.5mm\" height=\"25.0mm\"\n",
       "      fill=\"#FF9FFF\" stroke=\"none\" />\n",
       "<rect x=\"7.5mm\" y=\"0.0mm\"\n",
       "      width=\"2.5mm\" height=\"25.0mm\"\n",
       "      fill=\"#00D6FF\" stroke=\"none\" />\n",
       "<rect x=\"10.0mm\" y=\"0.0mm\"\n",
       "      width=\"2.5mm\" height=\"25.0mm\"\n",
       "      fill=\"#D74400\" stroke=\"none\" />\n",
       "<rect x=\"12.5mm\" y=\"0.0mm\"\n",
       "      width=\"2.5mm\" height=\"25.0mm\"\n",
       "      fill=\"#008029\" stroke=\"none\" />\n",
       "<rect x=\"15.0mm\" y=\"0.0mm\"\n",
       "      width=\"2.5mm\" height=\"25.0mm\"\n",
       "      fill=\"#005FD5\" stroke=\"none\" />\n",
       "<rect x=\"17.5mm\" y=\"0.0mm\"\n",
       "      width=\"2.5mm\" height=\"25.0mm\"\n",
       "      fill=\"#930068\" stroke=\"none\" />\n",
       "<rect x=\"20.0mm\" y=\"0.0mm\"\n",
       "      width=\"2.5mm\" height=\"25.0mm\"\n",
       "      fill=\"#FFCBB5\" stroke=\"none\" />\n",
       "<rect x=\"22.5mm\" y=\"0.0mm\"\n",
       "      width=\"2.5mm\" height=\"25.0mm\"\n",
       "      fill=\"#A78600\" stroke=\"none\" />\n",
       "<rect x=\"25.0mm\" y=\"0.0mm\"\n",
       "      width=\"2.5mm\" height=\"25.0mm\"\n",
       "      fill=\"#00FFC5\" stroke=\"none\" />\n",
       "<rect x=\"27.5mm\" y=\"0.0mm\"\n",
       "      width=\"2.5mm\" height=\"25.0mm\"\n",
       "      fill=\"#007E86\" stroke=\"none\" />\n",
       "<rect x=\"30.0mm\" y=\"0.0mm\"\n",
       "      width=\"2.5mm\" height=\"25.0mm\"\n",
       "      fill=\"#534200\" stroke=\"none\" />\n",
       "<rect x=\"32.5mm\" y=\"0.0mm\"\n",
       "      width=\"2.5mm\" height=\"25.0mm\"\n",
       "      fill=\"#8C8793\" stroke=\"none\" />\n",
       "<rect x=\"35.0mm\" y=\"0.0mm\"\n",
       "      width=\"2.5mm\" height=\"25.0mm\"\n",
       "      fill=\"#680000\" stroke=\"none\" />\n",
       "<rect x=\"37.5mm\" y=\"0.0mm\"\n",
       "      width=\"2.5mm\" height=\"25.0mm\"\n",
       "      fill=\"#00005A\" stroke=\"none\" />\n",
       "<rect x=\"40.0mm\" y=\"0.0mm\"\n",
       "      width=\"2.5mm\" height=\"25.0mm\"\n",
       "      fill=\"#FF2C6F\" stroke=\"none\" />\n",
       "<rect x=\"42.5mm\" y=\"0.0mm\"\n",
       "      width=\"2.5mm\" height=\"25.0mm\"\n",
       "      fill=\"#F7FFF6\" stroke=\"none\" />\n",
       "<rect x=\"45.0mm\" y=\"0.0mm\"\n",
       "      width=\"2.5mm\" height=\"25.0mm\"\n",
       "      fill=\"#003D25\" stroke=\"none\" />\n",
       "<rect x=\"47.5mm\" y=\"0.0mm\"\n",
       "      width=\"2.5mm\" height=\"25.0mm\"\n",
       "      fill=\"#91ABFF\" stroke=\"none\" />\n",
       "<rect x=\"50.0mm\" y=\"0.0mm\"\n",
       "      width=\"2.5mm\" height=\"25.0mm\"\n",
       "      fill=\"#A1B684\" stroke=\"none\" />\n",
       "<rect x=\"52.5mm\" y=\"0.0mm\"\n",
       "      width=\"2.5mm\" height=\"25.0mm\"\n",
       "      fill=\"#605051\" stroke=\"none\" />\n",
       "<rect x=\"55.0mm\" y=\"0.0mm\"\n",
       "      width=\"2.5mm\" height=\"25.0mm\"\n",
       "      fill=\"#C129E2\" stroke=\"none\" />\n",
       "<rect x=\"57.5mm\" y=\"0.0mm\"\n",
       "      width=\"2.5mm\" height=\"25.0mm\"\n",
       "      fill=\"#FF8E1E\" stroke=\"none\" />\n",
       "<rect x=\"60.0mm\" y=\"0.0mm\"\n",
       "      width=\"2.5mm\" height=\"25.0mm\"\n",
       "      fill=\"#003F51\" stroke=\"none\" />\n",
       "<rect x=\"62.5mm\" y=\"0.0mm\"\n",
       "      width=\"2.5mm\" height=\"25.0mm\"\n",
       "      fill=\"#797860\" stroke=\"none\" />\n",
       "<rect x=\"65.0mm\" y=\"0.0mm\"\n",
       "      width=\"2.5mm\" height=\"25.0mm\"\n",
       "      fill=\"#2E001C\" stroke=\"none\" />\n",
       "<rect x=\"67.5mm\" y=\"0.0mm\"\n",
       "      width=\"2.5mm\" height=\"25.0mm\"\n",
       "      fill=\"#01AF99\" stroke=\"none\" />\n",
       "<rect x=\"70.0mm\" y=\"0.0mm\"\n",
       "      width=\"2.5mm\" height=\"25.0mm\"\n",
       "      fill=\"#FFE6FF\" stroke=\"none\" />\n",
       "<rect x=\"72.5mm\" y=\"0.0mm\"\n",
       "      width=\"2.5mm\" height=\"25.0mm\"\n",
       "      fill=\"#77DA00\" stroke=\"none\" />\n",
       "<rect x=\"75.0mm\" y=\"0.0mm\"\n",
       "      width=\"2.5mm\" height=\"25.0mm\"\n",
       "      fill=\"#5B4B83\" stroke=\"none\" />\n",
       "<rect x=\"77.5mm\" y=\"0.0mm\"\n",
       "      width=\"2.5mm\" height=\"25.0mm\"\n",
       "      fill=\"#0094CF\" stroke=\"none\" />\n",
       "<rect x=\"80.0mm\" y=\"0.0mm\"\n",
       "      width=\"2.5mm\" height=\"25.0mm\"\n",
       "      fill=\"#B8739F\" stroke=\"none\" />\n",
       "<rect x=\"82.5mm\" y=\"0.0mm\"\n",
       "      width=\"2.5mm\" height=\"25.0mm\"\n",
       "      fill=\"#FF8269\" stroke=\"none\" />\n",
       "<rect x=\"85.0mm\" y=\"0.0mm\"\n",
       "      width=\"2.5mm\" height=\"25.0mm\"\n",
       "      fill=\"#FFBE05\" stroke=\"none\" />\n",
       "<rect x=\"87.5mm\" y=\"0.0mm\"\n",
       "      width=\"2.5mm\" height=\"25.0mm\"\n",
       "      fill=\"#C20030\" stroke=\"none\" />\n",
       "<rect x=\"90.0mm\" y=\"0.0mm\"\n",
       "      width=\"2.5mm\" height=\"25.0mm\"\n",
       "      fill=\"#A9806C\" stroke=\"none\" />\n",
       "<rect x=\"92.5mm\" y=\"0.0mm\"\n",
       "      width=\"2.5mm\" height=\"25.0mm\"\n",
       "      fill=\"#955600\" stroke=\"none\" />\n",
       "<rect x=\"95.0mm\" y=\"0.0mm\"\n",
       "      width=\"2.5mm\" height=\"25.0mm\"\n",
       "      fill=\"#9FB3B2\" stroke=\"none\" />\n",
       "<rect x=\"97.5mm\" y=\"0.0mm\"\n",
       "      width=\"2.5mm\" height=\"25.0mm\"\n",
       "      fill=\"#789500\" stroke=\"none\" />\n",
       "<rect x=\"100.0mm\" y=\"0.0mm\"\n",
       "      width=\"2.5mm\" height=\"25.0mm\"\n",
       "      fill=\"#FF9BB1\" stroke=\"none\" />\n",
       "<rect x=\"102.5mm\" y=\"0.0mm\"\n",
       "      width=\"2.5mm\" height=\"25.0mm\"\n",
       "      fill=\"#A8FFFD\" stroke=\"none\" />\n",
       "<rect x=\"105.0mm\" y=\"0.0mm\"\n",
       "      width=\"2.5mm\" height=\"25.0mm\"\n",
       "      fill=\"#2023C8\" stroke=\"none\" />\n",
       "<rect x=\"107.5mm\" y=\"0.0mm\"\n",
       "      width=\"2.5mm\" height=\"25.0mm\"\n",
       "      fill=\"#937BD2\" stroke=\"none\" />\n",
       "<rect x=\"110.0mm\" y=\"0.0mm\"\n",
       "      width=\"2.5mm\" height=\"25.0mm\"\n",
       "      fill=\"#FFE8B4\" stroke=\"none\" />\n",
       "<rect x=\"112.5mm\" y=\"0.0mm\"\n",
       "      width=\"2.5mm\" height=\"25.0mm\"\n",
       "      fill=\"#4A5750\" stroke=\"none\" />\n",
       "<rect x=\"115.0mm\" y=\"0.0mm\"\n",
       "      width=\"2.5mm\" height=\"25.0mm\"\n",
       "      fill=\"#636B05\" stroke=\"none\" />\n",
       "<rect x=\"117.5mm\" y=\"0.0mm\"\n",
       "      width=\"2.5mm\" height=\"25.0mm\"\n",
       "      fill=\"#2C1300\" stroke=\"none\" />\n",
       "<rect x=\"120.0mm\" y=\"0.0mm\"\n",
       "      width=\"2.5mm\" height=\"25.0mm\"\n",
       "      fill=\"#00BC62\" stroke=\"none\" />\n",
       "<rect x=\"122.5mm\" y=\"0.0mm\"\n",
       "      width=\"2.5mm\" height=\"25.0mm\"\n",
       "      fill=\"#CFE6FF\" stroke=\"none\" />\n",
       "<rect x=\"125.0mm\" y=\"0.0mm\"\n",
       "      width=\"2.5mm\" height=\"25.0mm\"\n",
       "      fill=\"#915266\" stroke=\"none\" />\n",
       "<rect x=\"127.5mm\" y=\"0.0mm\"\n",
       "      width=\"2.5mm\" height=\"25.0mm\"\n",
       "      fill=\"#C9F6C9\" stroke=\"none\" />\n",
       "<rect x=\"130.0mm\" y=\"0.0mm\"\n",
       "      width=\"2.5mm\" height=\"25.0mm\"\n",
       "      fill=\"#B6A9CF\" stroke=\"none\" />\n",
       "<rect x=\"132.5mm\" y=\"0.0mm\"\n",
       "      width=\"2.5mm\" height=\"25.0mm\"\n",
       "      fill=\"#2E3248\" stroke=\"none\" />\n",
       "<rect x=\"135.0mm\" y=\"0.0mm\"\n",
       "      width=\"2.5mm\" height=\"25.0mm\"\n",
       "      fill=\"#BBACA5\" stroke=\"none\" />\n",
       "<rect x=\"137.5mm\" y=\"0.0mm\"\n",
       "      width=\"2.5mm\" height=\"25.0mm\"\n",
       "      fill=\"#006B50\" stroke=\"none\" />\n",
       "<rect x=\"140.0mm\" y=\"0.0mm\"\n",
       "      width=\"2.5mm\" height=\"25.0mm\"\n",
       "      fill=\"#383329\" stroke=\"none\" />\n",
       "<rect x=\"142.5mm\" y=\"0.0mm\"\n",
       "      width=\"2.5mm\" height=\"25.0mm\"\n",
       "      fill=\"#C5AD6D\" stroke=\"none\" />\n",
       "<rect x=\"145.0mm\" y=\"0.0mm\"\n",
       "      width=\"2.5mm\" height=\"25.0mm\"\n",
       "      fill=\"#005500\" stroke=\"none\" />\n",
       "<rect x=\"147.5mm\" y=\"0.0mm\"\n",
       "      width=\"2.5mm\" height=\"25.0mm\"\n",
       "      fill=\"#687A7E\" stroke=\"none\" />\n",
       "<rect x=\"150.0mm\" y=\"0.0mm\"\n",
       "      width=\"2.5mm\" height=\"25.0mm\"\n",
       "      fill=\"#FF4ED2\" stroke=\"none\" />\n",
       "<rect x=\"152.5mm\" y=\"0.0mm\"\n",
       "      width=\"2.5mm\" height=\"25.0mm\"\n",
       "      fill=\"#9A2F00\" stroke=\"none\" />\n",
       "<rect x=\"155.0mm\" y=\"0.0mm\"\n",
       "      width=\"2.5mm\" height=\"25.0mm\"\n",
       "      fill=\"#501D5B\" stroke=\"none\" />\n",
       "<rect x=\"157.5mm\" y=\"0.0mm\"\n",
       "      width=\"2.5mm\" height=\"25.0mm\"\n",
       "      fill=\"#0E1A00\" stroke=\"none\" />\n",
       "<rect x=\"160.0mm\" y=\"0.0mm\"\n",
       "      width=\"2.5mm\" height=\"25.0mm\"\n",
       "      fill=\"#0B001F\" stroke=\"none\" />\n",
       "<rect x=\"162.5mm\" y=\"0.0mm\"\n",
       "      width=\"2.5mm\" height=\"25.0mm\"\n",
       "      fill=\"#49A9B8\" stroke=\"none\" />\n",
       "<rect x=\"165.0mm\" y=\"0.0mm\"\n",
       "      width=\"2.5mm\" height=\"25.0mm\"\n",
       "      fill=\"#8200A5\" stroke=\"none\" />\n",
       "<rect x=\"167.5mm\" y=\"0.0mm\"\n",
       "      width=\"2.5mm\" height=\"25.0mm\"\n",
       "      fill=\"#609663\" stroke=\"none\" />\n",
       "<rect x=\"170.0mm\" y=\"0.0mm\"\n",
       "      width=\"2.5mm\" height=\"25.0mm\"\n",
       "      fill=\"#00397F\" stroke=\"none\" />\n",
       "<rect x=\"172.5mm\" y=\"0.0mm\"\n",
       "      width=\"2.5mm\" height=\"25.0mm\"\n",
       "      fill=\"#8E0037\" stroke=\"none\" />\n",
       "<rect x=\"175.0mm\" y=\"0.0mm\"\n",
       "      width=\"2.5mm\" height=\"25.0mm\"\n",
       "      fill=\"#643820\" stroke=\"none\" />\n",
       "<rect x=\"177.5mm\" y=\"0.0mm\"\n",
       "      width=\"2.5mm\" height=\"25.0mm\"\n",
       "      fill=\"#7558FF\" stroke=\"none\" />\n",
       "<rect x=\"180.0mm\" y=\"0.0mm\"\n",
       "      width=\"2.5mm\" height=\"25.0mm\"\n",
       "      fill=\"#006787\" stroke=\"none\" />\n",
       "<rect x=\"182.5mm\" y=\"0.0mm\"\n",
       "      width=\"2.5mm\" height=\"25.0mm\"\n",
       "      fill=\"#B75D4E\" stroke=\"none\" />\n",
       "<rect x=\"185.0mm\" y=\"0.0mm\"\n",
       "      width=\"2.5mm\" height=\"25.0mm\"\n",
       "      fill=\"#C3C958\" stroke=\"none\" />\n",
       "<rect x=\"187.5mm\" y=\"0.0mm\"\n",
       "      width=\"2.5mm\" height=\"25.0mm\"\n",
       "      fill=\"#D00068\" stroke=\"none\" />\n",
       "<rect x=\"190.0mm\" y=\"0.0mm\"\n",
       "      width=\"2.5mm\" height=\"25.0mm\"\n",
       "      fill=\"#51272B\" stroke=\"none\" />\n",
       "<rect x=\"192.5mm\" y=\"0.0mm\"\n",
       "      width=\"2.5mm\" height=\"25.0mm\"\n",
       "      fill=\"#7B6044\" stroke=\"none\" />\n",
       "<rect x=\"195.0mm\" y=\"0.0mm\"\n",
       "      width=\"2.5mm\" height=\"25.0mm\"\n",
       "      fill=\"#2E3A00\" stroke=\"none\" />\n",
       "<rect x=\"197.5mm\" y=\"0.0mm\"\n",
       "      width=\"2.5mm\" height=\"25.0mm\"\n",
       "      fill=\"#7AFF8B\" stroke=\"none\" />\n",
       "<rect x=\"200.0mm\" y=\"0.0mm\"\n",
       "      width=\"2.5mm\" height=\"25.0mm\"\n",
       "      fill=\"#4F85F6\" stroke=\"none\" />\n",
       "<rect x=\"202.5mm\" y=\"0.0mm\"\n",
       "      width=\"2.5mm\" height=\"25.0mm\"\n",
       "      fill=\"#C47800\" stroke=\"none\" />\n",
       "<rect x=\"205.0mm\" y=\"0.0mm\"\n",
       "      width=\"2.5mm\" height=\"25.0mm\"\n",
       "      fill=\"#B5939C\" stroke=\"none\" />\n",
       "<rect x=\"207.5mm\" y=\"0.0mm\"\n",
       "      width=\"2.5mm\" height=\"25.0mm\"\n",
       "      fill=\"#60647C\" stroke=\"none\" />\n",
       "<rect x=\"210.0mm\" y=\"0.0mm\"\n",
       "      width=\"2.5mm\" height=\"25.0mm\"\n",
       "      fill=\"#20D8D8\" stroke=\"none\" />\n",
       "<rect x=\"212.5mm\" y=\"0.0mm\"\n",
       "      width=\"2.5mm\" height=\"25.0mm\"\n",
       "      fill=\"#001B2C\" stroke=\"none\" />\n",
       "<rect x=\"215.0mm\" y=\"0.0mm\"\n",
       "      width=\"2.5mm\" height=\"25.0mm\"\n",
       "      fill=\"#002726\" stroke=\"none\" />\n",
       "<rect x=\"217.5mm\" y=\"0.0mm\"\n",
       "      width=\"2.5mm\" height=\"25.0mm\"\n",
       "      fill=\"#F8E7E0\" stroke=\"none\" />\n",
       "<rect x=\"220.0mm\" y=\"0.0mm\"\n",
       "      width=\"2.5mm\" height=\"25.0mm\"\n",
       "      fill=\"#7E6200\" stroke=\"none\" />\n",
       "<rect x=\"222.5mm\" y=\"0.0mm\"\n",
       "      width=\"2.5mm\" height=\"25.0mm\"\n",
       "      fill=\"#185D5D\" stroke=\"none\" />\n",
       "<rect x=\"225.0mm\" y=\"0.0mm\"\n",
       "      width=\"2.5mm\" height=\"25.0mm\"\n",
       "      fill=\"#008B74\" stroke=\"none\" />\n",
       "<rect x=\"227.5mm\" y=\"0.0mm\"\n",
       "      width=\"2.5mm\" height=\"25.0mm\"\n",
       "      fill=\"#FF3F37\" stroke=\"none\" />\n",
       "<rect x=\"230.0mm\" y=\"0.0mm\"\n",
       "      width=\"2.5mm\" height=\"25.0mm\"\n",
       "      fill=\"#BC9EFF\" stroke=\"none\" />\n",
       "<rect x=\"232.5mm\" y=\"0.0mm\"\n",
       "      width=\"2.5mm\" height=\"25.0mm\"\n",
       "      fill=\"#82746D\" stroke=\"none\" />\n",
       "<rect x=\"235.0mm\" y=\"0.0mm\"\n",
       "      width=\"2.5mm\" height=\"25.0mm\"\n",
       "      fill=\"#555633\" stroke=\"none\" />\n",
       "<rect x=\"237.5mm\" y=\"0.0mm\"\n",
       "      width=\"2.5mm\" height=\"25.0mm\"\n",
       "      fill=\"#54BDFF\" stroke=\"none\" />\n",
       "<rect x=\"240.0mm\" y=\"0.0mm\"\n",
       "      width=\"2.5mm\" height=\"25.0mm\"\n",
       "      fill=\"#CD38A2\" stroke=\"none\" />\n",
       "<rect x=\"242.5mm\" y=\"0.0mm\"\n",
       "      width=\"2.5mm\" height=\"25.0mm\"\n",
       "      fill=\"#81D3AC\" stroke=\"none\" />\n",
       "<rect x=\"245.0mm\" y=\"0.0mm\"\n",
       "      width=\"2.5mm\" height=\"25.0mm\"\n",
       "      fill=\"#8A6F80\" stroke=\"none\" />\n",
       "<rect x=\"247.5mm\" y=\"0.0mm\"\n",
       "      width=\"2.5mm\" height=\"25.0mm\"\n",
       "      fill=\"#F7B66A\" stroke=\"none\" />\n",
       "</svg>"
      ],
      "text/plain": [
       "100-element Array{ColorTypes.RGB{FixedPointNumbers.UFixed{UInt8,8}},1}:\n",
       " RGB{U8}(0.0,0.0,0.0)      \n",
       " RGB{U8}(1.0,1.0,0.384)    \n",
       " RGB{U8}(1.0,0.624,1.0)    \n",
       " RGB{U8}(0.0,0.839,1.0)    \n",
       " RGB{U8}(0.843,0.267,0.0)  \n",
       " RGB{U8}(0.0,0.502,0.161)  \n",
       " RGB{U8}(0.0,0.373,0.835)  \n",
       " RGB{U8}(0.576,0.0,0.408)  \n",
       " RGB{U8}(1.0,0.796,0.71)   \n",
       " RGB{U8}(0.655,0.525,0.0)  \n",
       " RGB{U8}(0.0,1.0,0.773)    \n",
       " RGB{U8}(0.0,0.494,0.525)  \n",
       " RGB{U8}(0.325,0.259,0.0)  \n",
       " ⋮                         \n",
       " RGB{U8}(0.494,0.384,0.0)  \n",
       " RGB{U8}(0.094,0.365,0.365)\n",
       " RGB{U8}(0.0,0.545,0.455)  \n",
       " RGB{U8}(1.0,0.247,0.216)  \n",
       " RGB{U8}(0.737,0.62,1.0)   \n",
       " RGB{U8}(0.51,0.455,0.427) \n",
       " RGB{U8}(0.333,0.337,0.2)  \n",
       " RGB{U8}(0.329,0.741,1.0)  \n",
       " RGB{U8}(0.804,0.22,0.635) \n",
       " RGB{U8}(0.506,0.827,0.675)\n",
       " RGB{U8}(0.541,0.435,0.502)\n",
       " RGB{U8}(0.969,0.714,0.416)"
      ]
     },
     "execution_count": 46,
     "metadata": {},
     "output_type": "execute_result"
    }
   ],
   "source": [
    "colors = distinguishable_colors(100)\n"
   ]
  },
  {
   "cell_type": "code",
   "execution_count": 47,
   "metadata": {
    "collapsed": false
   },
   "outputs": [
    {
     "data": {
      "text/html": [],
      "text/plain": [
       "Interact.Options{:SelectionSlider,Int64}(Signal{Int64}(4, nactions=1),\"i\",4,\"4\",Interact.OptionDict(DataStructures.OrderedDict(\"1\"=>1,\"2\"=>2,\"3\"=>3,\"4\"=>4,\"5\"=>5,\"6\"=>6,\"7\"=>7,\"8\"=>8),Dict(7=>\"7\",4=>\"4\",2=>\"2\",3=>\"3\",5=>\"5\",8=>\"8\",6=>\"6\",1=>\"1\")),Any[],Any[],true,\"horizontal\")"
      ]
     },
     "metadata": {},
     "output_type": "display_data"
    },
    {
     "data": {
      "text/html": [],
      "text/plain": [
       "Interact.Options{:SelectionSlider,Int64}(Signal{Int64}(4, nactions=1),\"j\",4,\"4\",Interact.OptionDict(DataStructures.OrderedDict(\"1\"=>1,\"2\"=>2,\"3\"=>3,\"4\"=>4,\"5\"=>5,\"6\"=>6,\"7\"=>7,\"8\"=>8),Dict(7=>\"7\",4=>\"4\",2=>\"2\",3=>\"3\",5=>\"5\",8=>\"8\",6=>\"6\",1=>\"1\")),Any[],Any[],true,\"horizontal\")"
      ]
     },
     "metadata": {},
     "output_type": "display_data"
    },
    {
     "data": {
      "text/plain": [
       "10×10 Array{Int64,2}:\n",
       " 0  0  0  0  0  0  0  0  0  0\n",
       " 0  0  0  0  0  0  0  0  0  0\n",
       " 0  0  0  0  0  0  0  0  0  0\n",
       " 0  0  0  7  7  7  0  0  0  0\n",
       " 0  0  0  7  7  7  0  0  0  0\n",
       " 0  0  0  7  7  7  0  0  0  0\n",
       " 0  0  0  0  0  0  0  0  0  0\n",
       " 0  0  0  0  0  0  0  0  0  0\n",
       " 0  0  0  0  0  0  0  0  0  0\n",
       " 0  0  0  0  0  0  0  0  0  0"
      ]
     },
     "execution_count": 47,
     "metadata": {
      "comm_id": "adeb3621-288e-4251-ab2d-29480035d635",
      "reactive": true
     },
     "output_type": "execute_result"
    }
   ],
   "source": [
    "# Remember this ????\n",
    "A = fill(0,10,10)\n",
    "n = size(A,1)\n",
    "@manipulate for i in 1:n-2, j in 1:n-2\n",
    "    insert_block(A, i,j)\n",
    "end"
   ]
  },
  {
   "cell_type": "code",
   "execution_count": 48,
   "metadata": {
    "collapsed": false
   },
   "outputs": [
    {
     "data": {
      "text/html": [],
      "text/plain": [
       "Interact.Options{:SelectionSlider,Int64}(Signal{Int64}(4, nactions=1),\"i\",4,\"4\",Interact.OptionDict(DataStructures.OrderedDict(\"1\"=>1,\"2\"=>2,\"3\"=>3,\"4\"=>4,\"5\"=>5,\"6\"=>6,\"7\"=>7,\"8\"=>8),Dict(7=>\"7\",4=>\"4\",2=>\"2\",3=>\"3\",5=>\"5\",8=>\"8\",6=>\"6\",1=>\"1\")),Any[],Any[],true,\"horizontal\")"
      ]
     },
     "metadata": {},
     "output_type": "display_data"
    },
    {
     "data": {
      "text/html": [],
      "text/plain": [
       "Interact.Options{:SelectionSlider,Int64}(Signal{Int64}(4, nactions=1),\"j\",4,\"4\",Interact.OptionDict(DataStructures.OrderedDict(\"1\"=>1,\"2\"=>2,\"3\"=>3,\"4\"=>4,\"5\"=>5,\"6\"=>6,\"7\"=>7,\"8\"=>8),Dict(7=>\"7\",4=>\"4\",2=>\"2\",3=>\"3\",5=>\"5\",8=>\"8\",6=>\"6\",1=>\"1\")),Any[],Any[],true,\"horizontal\")"
      ]
     },
     "metadata": {},
     "output_type": "display_data"
    },
    {
     "data": {
      "image/png": "[encoded data removed]",
      "text/plain": [
       "10×10 Array{ColorTypes.RGB{FixedPointNumbers.UFixed{UInt8,8}},2}:\n",
       " RGB{U8}(0.0,0.0,0.0)  RGB{U8}(0.0,0.0,0.0)  …  RGB{U8}(0.0,0.0,0.0)\n",
       " RGB{U8}(0.0,0.0,0.0)  RGB{U8}(0.0,0.0,0.0)     RGB{U8}(0.0,0.0,0.0)\n",
       " RGB{U8}(0.0,0.0,0.0)  RGB{U8}(0.0,0.0,0.0)     RGB{U8}(0.0,0.0,0.0)\n",
       " RGB{U8}(0.0,0.0,0.0)  RGB{U8}(0.0,0.0,0.0)     RGB{U8}(0.0,0.0,0.0)\n",
       " RGB{U8}(0.0,0.0,0.0)  RGB{U8}(0.0,0.0,0.0)     RGB{U8}(0.0,0.0,0.0)\n",
       " RGB{U8}(0.0,0.0,0.0)  RGB{U8}(0.0,0.0,0.0)  …  RGB{U8}(0.0,0.0,0.0)\n",
       " RGB{U8}(0.0,0.0,0.0)  RGB{U8}(0.0,0.0,0.0)     RGB{U8}(0.0,0.0,0.0)\n",
       " RGB{U8}(0.0,0.0,0.0)  RGB{U8}(0.0,0.0,0.0)     RGB{U8}(0.0,0.0,0.0)\n",
       " RGB{U8}(0.0,0.0,0.0)  RGB{U8}(0.0,0.0,0.0)     RGB{U8}(0.0,0.0,0.0)\n",
       " RGB{U8}(0.0,0.0,0.0)  RGB{U8}(0.0,0.0,0.0)     RGB{U8}(0.0,0.0,0.0)"
      ]
     },
     "execution_count": 48,
     "metadata": {
      "comm_id": "b9849ed7-c808-4dda-886d-1d1e7027a5b9",
      "reactive": true
     },
     "output_type": "execute_result"
    }
   ],
   "source": [
    "A = fill(colors[1],10,10)\n",
    "n =size(A,1)\n",
    "@manipulate for i in 1:n-2, j in 1:n-2\n",
    "    insert_block(A, i,j,colors[4])\n",
    "end"
   ]
  },
  {
   "cell_type": "code",
   "execution_count": 49,
   "metadata": {
    "collapsed": true
   },
   "outputs": [],
   "source": [
    "# Exercise: Create Tetris Pieces, have them fall from the top"
   ]
  },
  {
   "cell_type": "code",
   "execution_count": null,
   "metadata": {
    "collapsed": false
   },
   "outputs": [],
   "source": []
  },
  {
   "cell_type": "markdown",
   "metadata": {},
   "source": [
    "# Moral:  We tell beginners, you don't need types!\n",
    "# Later they tell us \"we want to know\"."
   ]
  },
  {
   "cell_type": "code",
   "execution_count": 96,
   "metadata": {
    "collapsed": false
   },
   "outputs": [
    {
     "data": {
      "text/plain": [
       "Int64"
      ]
     },
     "execution_count": 96,
     "metadata": {},
     "output_type": "execute_result"
    }
   ],
   "source": [
    "typeof(1)"
   ]
  },
  {
   "cell_type": "code",
   "execution_count": 97,
   "metadata": {
    "collapsed": false
   },
   "outputs": [
    {
     "data": {
      "text/plain": [
       "0x11"
      ]
     },
     "execution_count": 97,
     "metadata": {},
     "output_type": "execute_result"
    }
   ],
   "source": [
    "UInt8(17)"
   ]
  },
  {
   "cell_type": "code",
   "execution_count": 98,
   "metadata": {
    "collapsed": false
   },
   "outputs": [
    {
     "data": {
      "text/plain": [
       "UFixed{UInt8,8}(0.502)"
      ]
     },
     "execution_count": 98,
     "metadata": {},
     "output_type": "execute_result"
    }
   ],
   "source": [
    "FixedPointNumbers.UFixed8(0.5)"
   ]
  },
  {
   "cell_type": "code",
   "execution_count": 99,
   "metadata": {
    "collapsed": false
   },
   "outputs": [
    {
     "data": {
      "text/plain": [
       "0.5019607843137255"
      ]
     },
     "execution_count": 99,
     "metadata": {},
     "output_type": "execute_result"
    }
   ],
   "source": [
    "128/255"
   ]
  },
  {
   "cell_type": "code",
   "execution_count": 100,
   "metadata": {
    "collapsed": false
   },
   "outputs": [
    {
     "data": {
      "text/plain": [
       "UFixed{UInt8,8}(0.655)"
      ]
     },
     "execution_count": 100,
     "metadata": {},
     "output_type": "execute_result"
    }
   ],
   "source": [
    "colors[10].r"
   ]
  },
  {
   "cell_type": "code",
   "execution_count": 101,
   "metadata": {
    "collapsed": false
   },
   "outputs": [
    {
     "data": {
      "text/plain": [
       "ColorTypes.RGB{FixedPointNumbers.UFixed{UInt8,8}}"
      ]
     },
     "execution_count": 101,
     "metadata": {},
     "output_type": "execute_result"
    }
   ],
   "source": [
    "typeof(colors[10])"
   ]
  },
  {
   "cell_type": "code",
   "execution_count": 102,
   "metadata": {
    "collapsed": false
   },
   "outputs": [
    {
     "ename": "LoadError",
     "evalue": "UndefVarError: merlion not defined",
     "output_type": "error",
     "traceback": [
      "UndefVarError: merlion not defined",
      "",
      " in execute_request(::ZMQ.Socket, ::IJulia.Msg) at /home/shashi/.julia/v0.5/IJulia/src/execute_request.jl:175",
      " in eventloop(::ZMQ.Socket) at /home/shashi/.julia/v0.5/IJulia/src/eventloop.jl:8",
      " in (::IJulia.##13#19)() at ./task.jl:360"
     ]
    }
   ],
   "source": [
    "typeof(merlion)"
   ]
  },
  {
   "cell_type": "markdown",
   "metadata": {},
   "source": [
    "# Think of the above as elements, now put them in arrays"
   ]
  },
  {
   "cell_type": "code",
   "execution_count": 103,
   "metadata": {
    "collapsed": false
   },
   "outputs": [
    {
     "data": {
      "text/plain": [
       "Array{Int64,2}"
      ]
     },
     "execution_count": 103,
     "metadata": {},
     "output_type": "execute_result"
    }
   ],
   "source": [
    "typeof(fill( 1, 8, 8))"
   ]
  },
  {
   "cell_type": "code",
   "execution_count": 104,
   "metadata": {
    "collapsed": false
   },
   "outputs": [
    {
     "data": {
      "text/plain": [
       "Array{String,2}"
      ]
     },
     "execution_count": 104,
     "metadata": {},
     "output_type": "execute_result"
    }
   ],
   "source": [
    "typeof( fill(airplane, 8, 8))"
   ]
  },
  {
   "cell_type": "code",
   "execution_count": 105,
   "metadata": {
    "collapsed": false
   },
   "outputs": [
    {
     "data": {
      "text/plain": [
       "Array{ColorTypes.RGB{FixedPointNumbers.UFixed{UInt8,8}},2}"
      ]
     },
     "execution_count": 105,
     "metadata": {},
     "output_type": "execute_result"
    }
   ],
   "source": [
    "typeof(fill(colors[1],8,8))"
   ]
  },
  {
   "cell_type": "code",
   "execution_count": 107,
   "metadata": {
    "collapsed": false
   },
   "outputs": [
    {
     "data": {
      "text/plain": [
       "Array{Int64,2}"
      ]
     },
     "execution_count": 107,
     "metadata": {},
     "output_type": "execute_result"
    }
   ],
   "source": [
    "A = fill(1,8,8)\n",
    "typeof(insert_block(A, 3, 5))"
   ]
  },
  {
   "cell_type": "code",
   "execution_count": 108,
   "metadata": {
    "collapsed": false
   },
   "outputs": [
    {
     "data": {
      "text/plain": [
       "Array{String,2}"
      ]
     },
     "execution_count": 108,
     "metadata": {},
     "output_type": "execute_result"
    }
   ],
   "source": [
    "A = fill(airplane,8,8)\n",
    "typeof(insert_block(A, 3, 5,alien))"
   ]
  },
  {
   "cell_type": "code",
   "execution_count": 109,
   "metadata": {
    "collapsed": false
   },
   "outputs": [
    {
     "data": {
      "text/plain": [
       "Array{ColorTypes.RGB{FixedPointNumbers.UFixed{UInt8,8}},2}"
      ]
     },
     "execution_count": 109,
     "metadata": {},
     "output_type": "execute_result"
    }
   ],
   "source": [
    "A = fill(colors[1],8,8)\n",
    "typeof(insert_block(A,3,5,colors[2]))"
   ]
  }
 ],
 "metadata": {
  "anaconda-cloud": {},
  "kernelspec": {
   "display_name": "Julia 0.5.0",
   "language": "julia",
   "name": "julia-0.5"
  },
  "language_info": {
   "file_extension": ".jl",
   "mimetype": "application/julia",
   "name": "julia",
   "version": "0.5.0"
  },
  "toc": {
   "nav_menu": {
    "height": "248px",
    "width": "252px"
   },
   "navigate_menu": true,
   "number_sections": true,
   "sideBar": true,
   "threshold": "2",
   "toc_cell": false,
   "toc_section_display": "block",
   "toc_window_display": false
  },
  "widgets": {
   "state": {
    "0b08bfc7-f395-407c-94bd-77ca1675dff7": {
     "views": [
      {
       "cell_index": 57
      }
     ]
    },
    "1d094e35-339b-4d25-b119-aa455bf29c3f": {
     "views": [
      {
       "cell_index": 50
      }
     ]
    },
    "2a4fa4fd-00b1-4cdc-8e65-a89745e43361": {
     "views": [
      {
       "cell_index": 48
      }
     ]
    },
    "4294e540-3eac-4ce9-bcbd-3552c2e21a49": {
     "views": [
      {
       "cell_index": 25
      }
     ]
    },
    "42f02fc4-fd19-4bdd-a30e-5546a33cf9c0": {
     "views": [
      {
       "cell_index": 36
      }
     ]
    },
    "5b84fd06-8575-4946-b5dd-b7a636d8daac": {
     "views": [
      {
       "cell_index": 56
      }
     ]
    },
    "769716a5-0381-4036-a081-ec8af0c70dea": {
     "views": [
      {
       "cell_index": 46
      }
     ]
    },
    "7c93662f-c93d-4043-ab8f-23b606ce0627": {
     "views": [
      {
       "cell_index": 57
      }
     ]
    },
    "7ce2308d-e32e-4b4b-95c7-6246ecf669d3": {
     "views": [
      {
       "cell_index": 45
      }
     ]
    },
    "7f01a99b-8d50-4773-970d-73aafa71a9b7": {
     "views": [
      {
       "cell_index": 45
      }
     ]
    },
    "a01dcff3-d864-4e2d-a078-f4c95ebd13da": {
     "views": [
      {
       "cell_index": 54
      }
     ]
    },
    "a4c8e442-ea66-4e93-95c4-59913f26715b": {
     "views": [
      {
       "cell_index": 47
      }
     ]
    },
    "b3528900-bf30-405c-82f4-45a787765cbd": {
     "views": [
      {
       "cell_index": 25
      }
     ]
    },
    "b60bae1b-a8e6-4d53-a3f9-f45ce37e9429": {
     "views": [
      {
       "cell_index": 36
      }
     ]
    },
    "c7e3b0fa-269f-45f1-b957-57175b4ee0a3": {
     "views": [
      {
       "cell_index": 50
      }
     ]
    },
    "c9bbb9de-2812-4499-acf9-ede04ae8d481": {
     "views": [
      {
       "cell_index": 48
      }
     ]
    },
    "ca374e0f-c20a-458f-b34c-ed595d138eb0": {
     "views": [
      {
       "cell_index": 23
      }
     ]
    },
    "cd9f2f1a-6ec5-4c0e-af31-787a9f08a6bf": {
     "views": [
      {
       "cell_index": 24
      }
     ]
    },
    "cf4073f2-da28-49a4-843e-0bc9c48a0c56": {
     "views": [
      {
       "cell_index": 46
      }
     ]
    },
    "d4fd468a-4d34-470a-b322-f6a2eb94df36": {
     "views": [
      {
       "cell_index": 47
      }
     ]
    },
    "ec36b8da-a04c-415b-882d-6e493aa2c5d4": {
     "views": [
      {
       "cell_index": 56
      }
     ]
    }
   },
   "version": "1.2.0"
  }
 },
 "nbformat": 4,
 "nbformat_minor": 2
}
