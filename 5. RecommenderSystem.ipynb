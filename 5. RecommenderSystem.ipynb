{
 "cells": [
  {
   "cell_type": "markdown",
   "metadata": {},
   "source": [
    "## Building a Recommendation engine in Julia\n",
    "\n",
    "\n",
    "### What is Julia : \n",
    "\n",
    "Julia is a **high-level, high-performance dynamic programming language for technical computing**, with syntax that is familiar to users of other technical computing environments. It provides a sophisticated compiler, distributed parallel execution, numerical accuracy, and an extensive mathematical function library.\n",
    "\n",
    "\n",
    "\n",
    "### Recommendation System\n",
    "\n",
    "#### Examples\n",
    "\n",
    "* Netflix\n",
    "* Amazon\n",
    "* Facebook\n",
    "* Last.fm\n",
    "\n",
    "#### What are they?\n",
    "\n",
    "* A system which understands the users personal taste for various products.\n",
    "* The products can range from items on e-commerce sites to movies to connections on social sites.\n",
    "* It uses the users past behaviour when available, like previous ratings on movies watched previously etc.\n",
    "* Mathematically models the user-item interaction using complex algorithms.\n",
    "* Works on large sparse datasets, which consists of the past behaviour.\n",
    "* Make high quality predictions to individual users.\n",
    "\n",
    "P.S : Certain limitations do exist, like lack of sufficient information of the users and movies. We assume that each user must rate a certain minimum number of movies in order to get accurate predictions.\n",
    "\n",
    "\n",
    "### What it takes to build one :\n",
    "\n",
    " 1. ** A versatile programming language **.\n",
    " 2. ** Powerful mathematical capabilities **.\n",
    " 3. High-performance, parallelism, ability to scale.\n",
    " 4. Web, javascript capabilities.\n",
    " \n",
    "### Why Julia :\n",
    "\n",
    "1. Its syntax which is similar Python and Matlab. \n",
    "2. Julia runs inherently fast, written well.\n",
    "3. Easy to call C/Fortran.\n",
    "4. Ready for handling Big Data.\n",
    "5. Add more.. "
   ]
  },
  {
   "cell_type": "markdown",
   "metadata": {},
   "source": [
    "### Toy Model of the movie recommender system :\n",
    "\n",
    "Consider 4 users *Alice*, *Bob*, *John*, *Dow* and 4 movies *Titanic*, *Braveheart*, *Lion King*, *Troll 2*.\n",
    "\n",
    "|   |Titanic   |Braveheart   |Lion King   | Troll 2  |\n",
    "|---|:---:|:---:|:---:|:---:|\n",
    "|Alice| 4  | 5  | 1  | ?  |\n",
    "| Bob  | 5  | ?  | 2  | 1  |\n",
    "| John  | 2  | ?  | 4  | 4  |\n",
    "| Dow  | ?  | 2  | 2  | 4  |\n",
    "\n",
    "The table above shows the ratings given by the 4 users to the 4 movies. The `?` are the movies unseen and hence we need to predict the ratings. By setting a threshold, say 3.5, we can recommend movies whose predictions are greater than 3.5."
   ]
  },
  {
   "cell_type": "code",
   "execution_count": 1,
   "metadata": {
    "collapsed": false
   },
   "outputs": [
    {
     "data": {
      "text/plain": [
       "4×4 Array{Int64,2}:\n",
       " 4  5  1  0\n",
       " 5  0  2  1\n",
       " 2  0  4  4\n",
       " 0  2  2  5"
      ]
     },
     "execution_count": 1,
     "metadata": {},
     "output_type": "execute_result"
    }
   ],
   "source": [
    "# Rating martix, R\n",
    "\n",
    "R = [4 5 1 0;\n",
    "     5 0 2 1;\n",
    "     2 0 4 4;\n",
    "     0 2 2 5;]"
   ]
  },
  {
   "cell_type": "markdown",
   "metadata": {},
   "source": [
    "#### Low rank matrix approximations to predict the movie ratings\n",
    "\n"
   ]
  },
  {
   "cell_type": "code",
   "execution_count": 2,
   "metadata": {
    "collapsed": false
   },
   "outputs": [
    {
     "data": {
      "text/plain": [
       "4×4 sparse matrix with 12 Int64 nonzero entries:\n",
       "\t[1, 1]  =  4\n",
       "\t[2, 1]  =  5\n",
       "\t[3, 1]  =  2\n",
       "\t[1, 2]  =  5\n",
       "\t[4, 2]  =  2\n",
       "\t[1, 3]  =  1\n",
       "\t[2, 3]  =  2\n",
       "\t[3, 3]  =  4\n",
       "\t[4, 3]  =  2\n",
       "\t[2, 4]  =  1\n",
       "\t[3, 4]  =  4\n",
       "\t[4, 4]  =  5"
      ]
     },
     "execution_count": 2,
     "metadata": {},
     "output_type": "execute_result"
    }
   ],
   "source": [
    "# First let us filter out the unwatched movie ratings.\n",
    "R_s = sparse(R)"
   ]
  },
  {
   "cell_type": "code",
   "execution_count": 3,
   "metadata": {
    "collapsed": false
   },
   "outputs": [
    {
     "name": "stdout",
     "output_type": "stream",
     "text": [
      "search: \u001b[1ms\u001b[22m\u001b[1mv\u001b[22m\u001b[1md\u001b[22m\u001b[1ms\u001b[22m \u001b[1ms\u001b[22m\u001b[1mv\u001b[22m\u001b[1md\u001b[22mval\u001b[1ms\u001b[22m \u001b[1ms\u001b[22m\u001b[1mv\u001b[22m\u001b[1md\u001b[22mval\u001b[1ms\u001b[22m! \u001b[1ms\u001b[22m\u001b[1mv\u001b[22m\u001b[1md\u001b[22m \u001b[1ms\u001b[22m\u001b[1mv\u001b[22m\u001b[1md\u001b[22mfact \u001b[1ms\u001b[22m\u001b[1mv\u001b[22m\u001b[1md\u001b[22mfact! i\u001b[1ms\u001b[22m\u001b[1mv\u001b[22mali\u001b[1md\u001b[22m\n",
      "\n"
     ]
    },
    {
     "data": {
      "text/markdown": [
       "```\n",
       "svds(A; nsv=6, ritzvec=true, tol=0.0, maxiter=1000, ncv=2*nsv, u0=zeros((0,)), v0=zeros((0,))) -> (SVD([left_sv,] s, [right_sv,]), nconv, niter, nmult, resid)\n",
       "```\n",
       "\n",
       "Computes the largest singular values `s` of `A` using implicitly restarted Lanczos iterations derived from [`eigs`](:func:`eigs`).\n",
       "\n",
       "**Inputs**\n",
       "\n",
       "  * `A`: Linear operator whose singular values are desired. `A` may be represented as a subtype of `AbstractArray`, e.g., a sparse matrix, or any other type supporting the four methods `size(A)`, `eltype(A)`, `A * vector`, and `A' * vector`.\n",
       "  * `nsv`: Number of singular values. Default: 6.\n",
       "  * `ritzvec`: If `true`, return the left and right singular vectors `left_sv` and `right_sv`.  If `false`, omit the singular vectors. Default: `true`.\n",
       "  * `tol`: tolerance, see [`eigs`](:func:`eigs`).\n",
       "  * `maxiter`: Maximum number of iterations, see [`eigs`](:func:`eigs`). Default: 1000.\n",
       "  * `ncv`: Maximum size of the Krylov subspace, see [`eigs`](:func:`eigs`) (there called `nev`). Default: `2*nsv`.\n",
       "  * `u0`: Initial guess for the first left Krylov vector. It may have length `m` (the first dimension of `A`), or 0.\n",
       "  * `v0`: Initial guess for the first right Krylov vector. It may have length `n` (the second dimension of `A`), or 0.\n",
       "\n",
       "**Outputs**\n",
       "\n",
       "  * `svd`: An `SVD` object containing the left singular vectors, the requested values, and the right singular vectors. If `ritzvec = false`, the left and right singular vectors will be empty.\n",
       "  * `nconv`: Number of converged singular values.\n",
       "  * `niter`: Number of iterations.\n",
       "  * `nmult`: Number of matrix–vector products used.\n",
       "  * `resid`: Final residual vector.\n",
       "\n",
       "**Example**\n",
       "\n",
       "```julia\n",
       "X = sprand(10, 5, 0.2)\n",
       "svds(X, nsv = 2)\n",
       "```\n",
       "\n",
       "**Implementation note**\n",
       "\n",
       "`svds(A)` is formally equivalent to calling `eigs` to perform implicitly restarted Lanczos tridiagonalization on the Hermitian matrix $\\begin{pmatrix} 0 & A^\\prime \\\\ A & 0 \\end{pmatrix}$, whose eigenvalues are plus and minus the singular values of $A$.\n"
      ],
      "text/plain": [
       "```\n",
       "svds(A; nsv=6, ritzvec=true, tol=0.0, maxiter=1000, ncv=2*nsv, u0=zeros((0,)), v0=zeros((0,))) -> (SVD([left_sv,] s, [right_sv,]), nconv, niter, nmult, resid)\n",
       "```\n",
       "\n",
       "Computes the largest singular values `s` of `A` using implicitly restarted Lanczos iterations derived from [`eigs`](:func:`eigs`).\n",
       "\n",
       "**Inputs**\n",
       "\n",
       "  * `A`: Linear operator whose singular values are desired. `A` may be represented as a subtype of `AbstractArray`, e.g., a sparse matrix, or any other type supporting the four methods `size(A)`, `eltype(A)`, `A * vector`, and `A' * vector`.\n",
       "  * `nsv`: Number of singular values. Default: 6.\n",
       "  * `ritzvec`: If `true`, return the left and right singular vectors `left_sv` and `right_sv`.  If `false`, omit the singular vectors. Default: `true`.\n",
       "  * `tol`: tolerance, see [`eigs`](:func:`eigs`).\n",
       "  * `maxiter`: Maximum number of iterations, see [`eigs`](:func:`eigs`). Default: 1000.\n",
       "  * `ncv`: Maximum size of the Krylov subspace, see [`eigs`](:func:`eigs`) (there called `nev`). Default: `2*nsv`.\n",
       "  * `u0`: Initial guess for the first left Krylov vector. It may have length `m` (the first dimension of `A`), or 0.\n",
       "  * `v0`: Initial guess for the first right Krylov vector. It may have length `n` (the second dimension of `A`), or 0.\n",
       "\n",
       "**Outputs**\n",
       "\n",
       "  * `svd`: An `SVD` object containing the left singular vectors, the requested values, and the right singular vectors. If `ritzvec = false`, the left and right singular vectors will be empty.\n",
       "  * `nconv`: Number of converged singular values.\n",
       "  * `niter`: Number of iterations.\n",
       "  * `nmult`: Number of matrix–vector products used.\n",
       "  * `resid`: Final residual vector.\n",
       "\n",
       "**Example**\n",
       "\n",
       "```julia\n",
       "X = sprand(10, 5, 0.2)\n",
       "svds(X, nsv = 2)\n",
       "```\n",
       "\n",
       "**Implementation note**\n",
       "\n",
       "`svds(A)` is formally equivalent to calling `eigs` to perform implicitly restarted Lanczos tridiagonalization on the Hermitian matrix $\\begin{pmatrix} 0 & A^\\prime \\\\ A & 0 \\end{pmatrix}$, whose eigenvalues are plus and minus the singular values of $A$.\n"
      ]
     },
     "execution_count": 3,
     "metadata": {},
     "output_type": "execute_result"
    }
   ],
   "source": [
    "?svds"
   ]
  },
  {
   "cell_type": "code",
   "execution_count": 4,
   "metadata": {
    "collapsed": false
   },
   "outputs": [
    {
     "data": {
      "text/plain": [
       "(Base.LinAlg.SVD{Float64,Float64,Array{Float64,2}}([-0.49182 0.695271 -0.469264; -0.470859 0.284387 0.660791; -0.562667 -0.424538 0.284075; -0.468841 -0.50546 -0.512297],[9.3931,5.91163,4.10572],[-0.579884 0.567346 0.48592; -0.361625 0.417048 -0.821029; -0.492051 -0.244438 0.2348; -0.539303 -0.666663 -0.186178]),6,1,8,[0.0,0.0,0.0,0.0,0.0,0.0,0.0,0.0])"
      ]
     },
     "execution_count": 4,
     "metadata": {},
     "output_type": "execute_result"
    }
   ],
   "source": [
    "# Let `k=3` be the reduced rank\n",
    "k=3\n",
    "LR = svds(R_s, nsv=k)"
   ]
  },
  {
   "cell_type": "code",
   "execution_count": 5,
   "metadata": {
    "collapsed": false
   },
   "outputs": [
    {
     "data": {
      "text/plain": [
       "4×3 Array{Float64,2}:\n",
       " -0.579884   0.567346   0.48592 \n",
       " -0.361625   0.417048  -0.821029\n",
       " -0.492051  -0.244438   0.2348  \n",
       " -0.539303  -0.666663  -0.186178"
      ]
     },
     "execution_count": 5,
     "metadata": {},
     "output_type": "execute_result"
    }
   ],
   "source": [
    "# Let us reconstruct back the matrix\n",
    "U = LR[1][:U]\n",
    "S = LR[1][:S]\n",
    "V = LR[1][:Vt]"
   ]
  },
  {
   "cell_type": "code",
   "execution_count": 6,
   "metadata": {
    "collapsed": false
   },
   "outputs": [
    {
     "data": {
      "text/plain": [
       "4×4 Array{Int64,2}:\n",
       " 5  5  1  1\n",
       " 5  1  3  1\n",
       " 3  0  4  5\n",
       " 0  3  3  5"
      ]
     },
     "execution_count": 6,
     "metadata": {},
     "output_type": "execute_result"
    }
   ],
   "source": [
    "R_new = convert(Array{Int64}, ceil(U*(diagm(S)*V')))"
   ]
  },
  {
   "cell_type": "code",
   "execution_count": 7,
   "metadata": {
    "collapsed": false
   },
   "outputs": [
    {
     "data": {
      "text/plain": [
       "4×4 Array{Int64,2}:\n",
       " 4  5  1  0\n",
       " 5  0  2  1\n",
       " 2  0  4  4\n",
       " 0  2  2  5"
      ]
     },
     "execution_count": 7,
     "metadata": {},
     "output_type": "execute_result"
    }
   ],
   "source": [
    "R"
   ]
  },
  {
   "cell_type": "markdown",
   "metadata": {},
   "source": [
    "### Exploratory analysis and plots of the data\n",
    "\n",
    "The data is sourced from [GroupLens](http://grouplens.org/datasets/movielens/), we choose the 20 million ratings dataset, which is obtained from 138,000 users who have rated 27,000 movies.\n",
    "\n",
    "** Reference : **\n",
    "F. Maxwell Harper and Joseph A. Konstan. 2015. The MovieLens Datasets: History and Context. ACM Transactions on Interactive Intelligent Systems (TiiS) 5, 4, Article 19 (December 2015), 19 pages. DOI=http://dx.doi.org/10.1145/2827872"
   ]
  },
  {
   "cell_type": "code",
   "execution_count": 8,
   "metadata": {
    "collapsed": false
   },
   "outputs": [
    {
     "data": {
      "text/html": [
       "<table class=\"data-frame\"><tr><th></th><th>userId</th><th>movieId</th><th>rating</th><th>timestamp</th></tr><tr><th>1</th><td>1</td><td>2</td><td>3.5</td><td>1112486027</td></tr><tr><th>2</th><td>1</td><td>29</td><td>3.5</td><td>1112484676</td></tr><tr><th>3</th><td>1</td><td>32</td><td>3.5</td><td>1112484819</td></tr><tr><th>4</th><td>1</td><td>47</td><td>3.5</td><td>1112484727</td></tr><tr><th>5</th><td>1</td><td>50</td><td>3.5</td><td>1112484580</td></tr><tr><th>6</th><td>1</td><td>112</td><td>3.5</td><td>1094785740</td></tr></table>"
      ],
      "text/plain": [
       "6×4 DataFrames.DataFrame\n",
       "│ Row │ userId │ movieId │ rating │ timestamp  │\n",
       "├─────┼────────┼─────────┼────────┼────────────┤\n",
       "│ 1   │ 1      │ 2       │ 3.5    │ 1112486027 │\n",
       "│ 2   │ 1      │ 29      │ 3.5    │ 1112484676 │\n",
       "│ 3   │ 1      │ 32      │ 3.5    │ 1112484819 │\n",
       "│ 4   │ 1      │ 47      │ 3.5    │ 1112484727 │\n",
       "│ 5   │ 1      │ 50      │ 3.5    │ 1112484580 │\n",
       "│ 6   │ 1      │ 112     │ 3.5    │ 1094785740 │"
      ]
     },
     "execution_count": 8,
     "metadata": {},
     "output_type": "execute_result"
    }
   ],
   "source": [
    "#path = joinpath(\"Users\",\"abhijith\",\"work\",\"ML\",\"notebooks\",\"data\",\"recommender\",\"ml-20m\")\n",
    "#ratings_file = \"ratings.csv\"\n",
    "#df_ratings = readtable(joinpath(path, ratings_file))\n",
    "\n",
    "if !isdir(Pkg.dir(\"RecSys\"))  Pkg.add(\"DistributedArrays\");   end\n",
    "using DataFrames\n",
    "df_ratings = readtable(\"/Users/abhijith/work/ML/notebooks/data/recommender/ml-20m/ratings.csv\");\n",
    "head(df_ratings)"
   ]
  },
  {
   "cell_type": "code",
   "execution_count": 9,
   "metadata": {
    "collapsed": false
   },
   "outputs": [
    {
     "name": "stdout",
     "output_type": "stream",
     "text": [
      "length(unique(df_ratings[:userId])) = 138493\n",
      "length(unique(df_ratings[:movieId])) = 26744\n"
     ]
    },
    {
     "data": {
      "text/plain": [
       "26744"
      ]
     },
     "execution_count": 9,
     "metadata": {},
     "output_type": "execute_result"
    }
   ],
   "source": [
    "# Count total number of unique users\n",
    "@show length(unique(df_ratings[:userId]))\n",
    "@show length(unique(df_ratings[:movieId]))"
   ]
  },
  {
   "cell_type": "markdown",
   "metadata": {},
   "source": [
    "### Excercise:"
   ]
  },
  {
   "cell_type": "code",
   "execution_count": null,
   "metadata": {
    "collapsed": true
   },
   "outputs": [],
   "source": [
    "# Most prolific movie watcher\n",
    "# Most watched movie\n",
    "# Most highyl rated movie"
   ]
  },
  {
   "cell_type": "code",
   "execution_count": 12,
   "metadata": {
    "collapsed": true
   },
   "outputs": [],
   "source": [
    "# Plot of average ratings over time\n",
    "# Few other plots."
   ]
  },
  {
   "cell_type": "markdown",
   "metadata": {},
   "source": [
    "### Parallel Movie recommender system \n",
    "\n",
    "This notebook demos collaborative filtering based movie recommender systems in Julia. The package [RecSys.jl](https://github.com/abhijithch/RecSys.jl/) is a package for recommender systems in Julia, it can currently work with explicit ratings data. This demos a parallel implementation of the ALS factorization based collaborative filtering for movie recommendations based on [this](http://dl.acm.org/citation.cfm?id=1424269) research article. The detailed report of the system is [here](http://juliacomputing.com/blog/2016/04/22/a-parallel-recommendation-engine-in-julia.html).\n",
    "\n",
    "### Collaborative Filtering using weighted ALS factorization\n",
    "\n",
    "<img src=\"./images/als.png\" width=\"550\">\n",
    "\n",
    "Let $U={u_i}$ be the user feature matrix where ${u_i} \\subseteq\\mathbb{R}^{n_f}$ and $i=1,2,...,n_u$, and let $M={m_j}$ be the item or movie feature matrix, where ${m_j} \\subseteq \\mathbb{R}^{n_f}$ and $j=1,2,...,n_m$. Here $n_f$ is the number of factors, i.e., the reduced dimension or the lower rank, which is determined by cross validation. The predictions can be calculated for any user-movie combination,\n",
    "$(i,j)$, as $r_{ij}={u_i} \\cdotp {m_j}, \\forall i,j$.\n",
    "\n",
    "** Reference ** :\n",
    "\n",
    "[Large-Scale Parallel Collaborative Filtering for the Netflix Prize](http://dl.acm.org/citation.cfm?id=1424269)\n",
    "\n",
    "[Movielens dataset](http://grouplens.org/datasets/movielens/)"
   ]
  },
  {
   "cell_type": "code",
   "execution_count": null,
   "metadata": {
    "collapsed": true
   },
   "outputs": [],
   "source": [
    "# Installation of the packages. (To be done the first time, hence comment after installing.)\n",
    "#Pkg.clone(\"https://github.com/tanmaykm/Blobs.jl.git\")\n",
    "#Pkg.clone(\"https://github.com/abhijithch/RecSys.jl\")"
   ]
  },
  {
   "cell_type": "code",
   "execution_count": 16,
   "metadata": {
    "collapsed": false
   },
   "outputs": [],
   "source": [
    "using RecSys"
   ]
  },
  {
   "cell_type": "code",
   "execution_count": null,
   "metadata": {
    "collapsed": true
   },
   "outputs": [],
   "source": [
    "include(\"/Users/abhijith/.julia/v0.5/RecSys/examples/movielens/movielens.jl\")"
   ]
  },
  {
   "cell_type": "markdown",
   "metadata": {},
   "source": [
    "### Dataset : \n",
    "\n",
    "GroupLens Research has collected and made available rating data sets from the [MovieLens](http://movielens.org) web site. The data sets were collected over various periods of time, depending on the size of the set. \n",
    "\n",
    "#### MovieLens 20M Dataset\n",
    "\n",
    "Stable benchmark dataset. 20 million ratings and 465,000 tag applications applied to 27,000 movies by 138,000 users. Includes tag genome data with 12 million relevance scores across 1,100 tags.\n",
    "\n",
    "We use the ratings data to form a sparse matrix of size `138,000 X 27,000` with 20 million ratings ranging from 1 to 5."
   ]
  },
  {
   "cell_type": "code",
   "execution_count": null,
   "metadata": {
    "collapsed": true
   },
   "outputs": [],
   "source": [
    "# Please specify path to the data folder which includes the 20 million ratings data folder \"ml-20m\"\n",
    "dataset_path = \"\""
   ]
  },
  {
   "cell_type": "code",
   "execution_count": 3,
   "metadata": {
    "collapsed": false
   },
   "outputs": [
    {
     "data": {
      "text/plain": [
       "\"ml-20m\""
      ]
     },
     "execution_count": 3,
     "metadata": {},
     "output_type": "execute_result"
    }
   ],
   "source": [
    "data_folder = \"ml-20m\""
   ]
  },
  {
   "cell_type": "markdown",
   "metadata": {},
   "source": [
    "Creating file handles to the movie ratings and the movies list files."
   ]
  },
  {
   "cell_type": "code",
   "execution_count": 4,
   "metadata": {
    "collapsed": false
   },
   "outputs": [
    {
     "data": {
      "text/plain": [
       "RecSys.DlmFile(\"/Users/abhijith/work/ML/notebooks/data/recommender/ml-20m/movies.csv\",',',true,true)"
      ]
     },
     "execution_count": 4,
     "metadata": {},
     "output_type": "execute_result"
    }
   ],
   "source": [
    "ratings_file = DlmFile(joinpath(dataset_path,data_folder, \"ratings.csv\"); dlm=',', header=true)\n",
    "movies_file = DlmFile(joinpath(dataset_path,data_folder, \"movies.csv\"); dlm=',', header=true)"
   ]
  },
  {
   "cell_type": "markdown",
   "metadata": {
    "collapsed": false
   },
   "source": [
    "#### Parallel implementations :\n",
    "\n",
    "This package offers 3 modes of parallelism, \n",
    "\n",
    "1. Multi-threading - Julia native threading infrastructure provides an easy way to make use threads.\n",
    "2. Shared memory - This is a multiprocessing using shared data.\n",
    "3. Distributed memory - This is distributed memory based multiprocessing, this would require that the data be split into chunks. There is code to do this, refer ...\n",
    "\n",
    "Multiple Dispatch is a nice feature in Julia, which would dispatch to the correct implementation based on the type of the objects passed as arguments. \n",
    "\n",
    "For e.x., if we need to train the model using shared memory multiprocessing, the type of `MovieRec` is `MovieRec(trainingset::FileSpec, movie_names::FileSpec)` and if we need distributed memory model the type of `MovieRec` is `MovieRec(user_item_ratings::FileSpec, item_user_ratings::FileSpec, movie_names::FileSpec)`.\n",
    "\n",
    "Let us see how Shared memory Parallel implementation trains the MovieLens data set"
   ]
  },
  {
   "cell_type": "code",
   "execution_count": 160,
   "metadata": {
    "collapsed": false
   },
   "outputs": [
    {
     "data": {
      "text/plain": [
       "MovieRec(RecSys.DlmFile(\"/Users/abhijith/work/ML/notebooks/data/recommender/ml-20m/movies.csv\",',',true,true),RecSys.ALSWR{RecSys.ParShmem,RecSys.SharedMemoryInputs,RecSys.SharedMemoryModel}(RecSys.SharedMemoryInputs(RecSys.DlmFile(\"/Users/abhijith/work/ML/notebooks/data/recommender/ml-20m/ratings.csv\",',',true,true),0,0,Nullable{Union{ParallelSparseMatMul.SharedSparseMatrixCSC{Float64,Int64},RecSys.MatrixBlobs.SparseMatBlobs{Tv,Ti},SparseMatrixCSC{Float64,Int64}}}(),Nullable{Union{ParallelSparseMatMul.SharedSparseMatrixCSC{Float64,Int64},RecSys.MatrixBlobs.SparseMatBlobs{Tv,Ti},SparseMatrixCSC{Float64,Int64}}}(),Nullable{Union{Array{Int64,1},SharedArray{Int64,1}}}(),Nullable{Union{Array{Int64,1},SharedArray{Int64,1}}}()),Nullable{RecSys.SharedMemoryModel}(),RecSys.ParShmem()),Nullable{SparseVector{AbstractString,Int64}}())"
      ]
     },
     "execution_count": 160,
     "metadata": {},
     "output_type": "execute_result"
    }
   ],
   "source": [
    "rec = MovieRec(ratings_file, movies_file, true)"
   ]
  },
  {
   "cell_type": "markdown",
   "metadata": {},
   "source": [
    "To run in parallel mode, add processes like below:"
   ]
  },
  {
   "cell_type": "markdown",
   "metadata": {},
   "source": [
    "Let us train the model with `10` factors and `10` iterations."
   ]
  },
  {
   "cell_type": "code",
   "execution_count": 161,
   "metadata": {
    "collapsed": false
   },
   "outputs": [
    {
     "name": "stdout",
     "output_type": "stream",
     "text": [
      " 94.471160 seconds (54.32 M allocations: 64.239 GB, 13.43% gc time)\n"
     ]
    }
   ],
   "source": [
    "@time train(rec, 10, 10)"
   ]
  },
  {
   "cell_type": "code",
   "execution_count": 150,
   "metadata": {
    "collapsed": false
   },
   "outputs": [
    {
     "data": {
      "text/plain": [
       "1"
      ]
     },
     "execution_count": 150,
     "metadata": {},
     "output_type": "execute_result"
    }
   ],
   "source": [
    "nprocs()"
   ]
  },
  {
   "cell_type": "code",
   "execution_count": 162,
   "metadata": {
    "collapsed": false
   },
   "outputs": [
    {
     "data": {
      "text/plain": [
       "0.7534671378202421"
      ]
     },
     "execution_count": 162,
     "metadata": {},
     "output_type": "execute_result"
    }
   ],
   "source": [
    "err = rmse(rec)"
   ]
  },
  {
   "cell_type": "markdown",
   "metadata": {},
   "source": [
    "#### Parallel Run:"
   ]
  },
  {
   "cell_type": "code",
   "execution_count": null,
   "metadata": {
    "collapsed": true
   },
   "outputs": [],
   "source": [
    "# Check the number of procs\n",
    "nprocs()\n",
    "# Add any number of procs\n",
    "#addprocs(2)\n",
    "@everywhere using RecSys\n",
    "@everywhere include(joinpath(Pkg.dir(\"RecSys\"), \"examples\", \"movielens\", \"movielens.jl\"))"
   ]
  },
  {
   "cell_type": "code",
   "execution_count": null,
   "metadata": {
    "collapsed": true
   },
   "outputs": [],
   "source": [
    "@time train(rec, 10, 10)"
   ]
  },
  {
   "cell_type": "markdown",
   "metadata": {},
   "source": [
    "#### Select a user, for which we show the movies watched and the recommendations for the user. "
   ]
  },
  {
   "cell_type": "code",
   "execution_count": 33,
   "metadata": {
    "collapsed": false
   },
   "outputs": [
    {
     "name": "stdout",
     "output_type": "stream",
     "text": [
      "Already watched:\n",
      "  [1 ]  =  \"Nixon (1995) - Drama\"\n",
      "  [2 ]  =  \"Leaving Las Vegas (1995) - Drama|Romance\"\n",
      "  [3 ]  =  \"Twelve Monkeys (a.k.a. 12 Monkeys) (1995) - Mystery|Sci-Fi|Thriller\"\n",
      "  [4 ]  =  \"Clueless (1995) - Comedy|Romance\"\n",
      "  [5 ]  =  \"Usual Suspects, The (1995) - Crime|Mystery|Thriller\"\n",
      "  [6 ]  =  \"From Dusk Till Dawn (1996) - Action|Comedy|Horror|Thriller\"\n",
      "  [7 ]  =  \"Crimson Tide (1995) - Drama|Thriller|War\"\n",
      "  [8 ]  =  \"Crumb (1994) - Documentary\"\n",
      "  [9 ]  =  \"Net, The (1995) - Action|Crime|Thriller\"\n",
      "  [10]  =  \"Smoke (1995) - Comedy|Drama\"\n",
      "  [11]  =  \"Clerks (1994) - Comedy\"\n",
      "  [12]  =  \"Ed Wood (1994) - Comedy|Drama\"\n",
      "  [13]  =  \"Star Wars: Episode IV - A New Hope (1977) - Action|Adventure|Sci-Fi\"\n",
      "  [14]  =  \"Like Water for Chocolate (Como agua para chocolate) (1992) - Drama|Fantasy|Romance\"\n",
      "  [15]  =  \"Natural Born Killers (1994) - Action|Crime|Thriller\"\n",
      "  [16]  =  \"Léon: The Professional (a.k.a. The Professional) (Léon) (1994) - Action|Crime|Drama|Thriller\"\n",
      "  [17]  =  \"Pulp Fiction (1994) - Comedy|Crime|Drama|Thriller\"\n",
      "  [18]  =  \"Shawshank Redemption, The (1994) - Crime|Drama\"\n",
      "  [19]  =  \"Star Trek: Generations (1994) - Adventure|Drama|Sci-Fi\"\n",
      "  [20]  =  \"What's Eating Gilbert Grape (1993) - Drama\"\n",
      "  [21]  =  \"While You Were Sleeping (1995) - Comedy|Romance\"\n",
      "  [22]  =  \"Muriel's Wedding (1994) - Comedy\"\n",
      "  [23]  =  \"Ace Ventura: Pet Detective (1994) - Comedy\"\n",
      "  [24]  =  \"Forrest Gump (1994) - Comedy|Drama|Romance|War\"\n",
      "  [25]  =  \"Boxing Helena (1993) - Drama|Mystery|Romance|Thriller\"\n",
      "  [26]  =  \"Carlito's Way (1993) - Crime|Drama\"\n",
      "  [27]  =  \"Cliffhanger (1993) - Action|Adventure|Thriller\"\n",
      "  [28]  =  \"Coneheads (1993) - Comedy|Sci-Fi\"\n",
      "  [29]  =  \"Hudsucker Proxy, The (1994) - Comedy\"\n",
      "  [30]  =  \"Kalifornia (1993) - Drama|Thriller\"\n",
      "  [31]  =  \"Mrs. Doubtfire (1993) - Comedy|Drama\"\n",
      "  [32]  =  \"Philadelphia (1993) - Drama\"\n",
      "  [33]  =  \"Schindler's List (1993) - Drama|War\"\n",
      "  [34]  =  \"Short Cuts (1993) - Drama\"\n",
      "  [35]  =  \"Six Degrees of Separation (1993) - Drama\"\n",
      "  [36]  =  \"Welcome to the Dollhouse (1995) - Comedy|Drama\"\n",
      "  [37]  =  \"Home Alone (1990) - Children|Comedy\"\n",
      "  [38]  =  \"Ghost (1990) - Comedy|Drama|Fantasy|Romance|Thriller\"\n",
      "  [39]  =  \"Terminator 2: Judgment Day (1991) - Action|Sci-Fi\"\n",
      "  [40]  =  \"Silence of the Lambs, The (1991) - Crime|Horror|Thriller\"\n",
      "  [41]  =  \"Fargo (1996) - Comedy|Crime|Drama|Thriller\"\n",
      "  [42]  =  \"Heavy Metal (1981) - Action|Adventure|Animation|Horror|Sci-Fi\"\n",
      "  [43]  =  \"Space Jam (1996) - Adventure|Animation|Children|Comedy|Fantasy|Sci-Fi\"\n",
      "  [44]  =  \"Alphaville (Alphaville, une étrange aventure de Lemmy Caution) (1965) - Drama|Mystery|Romance|Sci-Fi|Thriller\"\n",
      "  [45]  =  \"Truth About Cats & Dogs, The (1996) - Comedy|Romance\"\n",
      "  [46]  =  \"Cold Comfort Farm (1995) - Comedy\"\n",
      "  [47]  =  \"Trainspotting (1996) - Comedy|Crime|Drama\"\n",
      "  [48]  =  \"Independence Day (a.k.a. ID4) (1996) - Action|Adventure|Sci-Fi|Thriller\"\n",
      "  [49]  =  \"Palookaville (1996) - Action|Comedy|Drama\"\n",
      "  [50]  =  \"Star Wars: Episode VI - Return of the Jedi (1983) - Action|Adventure|Sci-Fi\"\n",
      "  [51]  =  \"Waiting for Guffman (1996) - Comedy\"\n",
      "  [52]  =  \"Fifth Element, The (1997) - Action|Adventure|Comedy|Sci-Fi\"\n",
      "\n",
      "Recommended:\n",
      "  [1 ]  =  \"Double Dhamaal (2011) - Comedy|Crime|Drama\"\n",
      "  [2 ]  =  \"Sand Sharks (2011) - Comedy|Horror|Sci-Fi|Thriller\"\n",
      "  [3 ]  =  \"Desperate Search (1952) - Adventure|Drama\"\n",
      "  [4 ]  =  \"Soo (Art of Revenge) (2007) - Action|Crime|Drama|Thriller\"\n",
      "  [5 ]  =  \"Caltiki the Undying Monster (1959) - Adventure|Horror|Sci-Fi|Thriller\"\n",
      "  [6 ]  =  \"Slim Carter (1957) - Comedy|Western\"\n",
      "  [7 ]  =  \"Diverted (2009) - Drama\"\n",
      "  [8 ]  =  \"First Texan, The (1956) - Western\"\n",
      "  [9 ]  =  \"BFFs (2014) - Comedy\"\n",
      "  [10]  =  \"Shepherd (1999) - Sci-Fi\"\n",
      "\n"
     ]
    }
   ],
   "source": [
    "user = 100\n",
    "print_recommendations(rec, recommend(rec, user)...)"
   ]
  },
  {
   "cell_type": "code",
   "execution_count": 18,
   "metadata": {
    "collapsed": false
   },
   "outputs": [
    {
     "name": "stdout",
     "output_type": "stream",
     "text": [
      "/Users/abhijith/work/training/JuliaTraining/3DayProgram/Day 1\n"
     ]
    }
   ],
   "source": [
    ";pwd"
   ]
  },
  {
   "cell_type": "code",
   "execution_count": null,
   "metadata": {
    "collapsed": true
   },
   "outputs": [],
   "source": []
  }
 ],
 "metadata": {
  "anaconda-cloud": {},
  "kernelspec": {
   "display_name": "Julia 0.5.0",
   "language": "julia",
   "name": "julia-0.5"
  },
  "language_info": {
   "file_extension": ".jl",
   "mimetype": "application/julia",
   "name": "julia",
   "version": "0.5.0"
  }
 },
 "nbformat": 4,
 "nbformat_minor": 0
}
