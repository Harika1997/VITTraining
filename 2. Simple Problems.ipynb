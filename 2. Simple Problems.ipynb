{
 "cells": [
  {
   "cell_type": "markdown",
   "metadata": {},
   "source": [
    "# Fun Fun Fun "
   ]
  },
  {
   "cell_type": "markdown",
   "metadata": {},
   "source": [
    "Let's write up a few examples. \n",
    "\n",
    "### Exercise 1: Write a function generate the first `n` Fibonacci numbers\n",
    "\n"
   ]
  },
  {
   "cell_type": "code",
   "execution_count": null,
   "metadata": {
    "collapsed": true
   },
   "outputs": [],
   "source": [
    "# Your code goes here"
   ]
  },
  {
   "cell_type": "markdown",
   "metadata": {},
   "source": [
    "### Exercise 2 : Image Blurring\n",
    "\n",
    "For this we are going to use the `Images` package. If you don't already have it, do: \n",
    "```\n",
    "Pkg.add(\"Images\")\n",
    "Pkg.add(\"TestImages\")\n",
    "```\n",
    "\n",
    "Now load the two packages."
   ]
  },
  {
   "cell_type": "code",
   "execution_count": null,
   "metadata": {
    "collapsed": false
   },
   "outputs": [],
   "source": [
    "using Images, TestImages"
   ]
  },
  {
   "cell_type": "markdown",
   "metadata": {},
   "source": [
    "Load an image from the test image collection"
   ]
  },
  {
   "cell_type": "code",
   "execution_count": null,
   "metadata": {
    "collapsed": false
   },
   "outputs": [],
   "source": [
    "a = testimage(\"lighthouse\")"
   ]
  },
  {
   "cell_type": "markdown",
   "metadata": {},
   "source": [
    "Now, implement an **image blurring** algorithm on this particular image. You can use a simple 4-point stencil."
   ]
  },
  {
   "cell_type": "code",
   "execution_count": null,
   "metadata": {
    "collapsed": false
   },
   "outputs": [],
   "source": [
    "# Oh, before you start, it's always nice to take care of precision issues\n",
    "a = convert(Matrix{RGB{Float32}}, a)"
   ]
  },
  {
   "cell_type": "code",
   "execution_count": null,
   "metadata": {
    "collapsed": true
   },
   "outputs": [],
   "source": [
    "# Your code goes here"
   ]
  },
  {
   "cell_type": "markdown",
   "metadata": {},
   "source": [
    "### Exercise 3: Newton's Method\n",
    "\n",
    "The **Newton method** finds roots (zeros) of a nonlinear function $f$ of one variable, i.e. points $x^*$ such that $f(x^*) = 0$. It is an *iterative method*: we start with an arbitrary initial guess $x_0$, and calculate in sequence $x_1$, $x_2$, ... using the following formula:\n",
    "\n",
    "$$ x_{n+1} = x_n - \\frac{f(x_n)}{f'(x_n)}, $$\n",
    "\n",
    "where $f'$ is the derivative of the function $f$."
   ]
  },
  {
   "cell_type": "markdown",
   "metadata": {},
   "source": [
    "Write a function to find the **square root** of any number, using Newton's method. Relavent questions to ask: \n",
    "\n",
    "* What is `f` supposed to be?\n",
    "* What is `f′` supposed to be?"
   ]
  },
  {
   "cell_type": "code",
   "execution_count": 7,
   "metadata": {
    "collapsed": false
   },
   "outputs": [],
   "source": [
    "# Your code goes here"
   ]
  }
 ],
 "metadata": {
  "kernelspec": {
   "display_name": "Julia 0.5.1",
   "language": "julia",
   "name": "julia-0.5"
  },
  "language_info": {
   "file_extension": ".jl",
   "mimetype": "application/julia",
   "name": "julia",
   "version": "0.5.1"
  }
 },
 "nbformat": 4,
 "nbformat_minor": 2
}
